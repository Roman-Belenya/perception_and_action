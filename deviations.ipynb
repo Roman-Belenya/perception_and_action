{
 "cells": [
  {
   "cell_type": "code",
   "execution_count": 1,
   "metadata": {
    "collapsed": true
   },
   "outputs": [],
   "source": [
    "from tools import *\n",
    "import matplotlib.pyplot as plt\n",
    "import numpy as np\n",
    "from mpl_toolkits.mplot3d import Axes3D\n",
    "\n",
    "%config InlineBackend.figure_format = 'retina'\n",
    "plt.style.use('ggplot')\n",
    "%matplotlib inline\n",
    "\n",
    "d = manual_load_data('clean_data.pkl')"
   ]
  },
  {
   "cell_type": "code",
   "execution_count": 2,
   "metadata": {
    "collapsed": true
   },
   "outputs": [],
   "source": [
    "# Define a function that returns coordinates of a straight line connecting two points in 3d\n",
    "\n",
    "def get_3d_line(vec_x, vec_y, vec_z):\n",
    "        \n",
    "    x0 = vec_x[0]; x1 = vec_x[-1]\n",
    "    y0 = vec_y[0]; y1 = vec_y[-1]\n",
    "    z0 = vec_z[0]; z1 = vec_z[-1]\n",
    "    \n",
    "    a = x1 - x0\n",
    "    b = y1 - y0\n",
    "    c = z1 - z0\n",
    "   \n",
    "    t = np.linspace(0, 1, len(vec_x))\n",
    "    xs = np.array(x0 + t*a)\n",
    "    ys = np.array(y0 + t*b)\n",
    "    zs = np.array(z0 + t*c)\n",
    "    \n",
    "    return (xs, ys, zs)"
   ]
  },
  {
   "cell_type": "code",
   "execution_count": 40,
   "metadata": {
    "collapsed": true
   },
   "outputs": [],
   "source": [
    "# Reference:\n",
    "# https://www.youtube.com/watch?v=0lG53-ogF2k\n",
    "\n",
    "def get_intercept(p0, p1, q):\n",
    "    '''Make a stright line between p0 and p1, find the perpendicular vector to this line passing through q, \n",
    "    determine the intercept and distance.\n",
    "    \n",
    "    Usage: intercept, distance, error = get_intercept([p0x, p0y, p0z], [p1x, p1y, p1z], [qx, qy, qz])\n",
    "    \n",
    "    Reference:\n",
    "    https://www.youtube.com/watch?v=0lG53-ogF2k'''\n",
    "    \n",
    "    p0 = np.array(p0); p1 = np.array(p1); q = np.array(q)\n",
    "    \n",
    "    v = np.array(p1 - p0) # direction of the sraight line\n",
    "    pq = np.array(p0 - q) # point on the direction vector for the given point\n",
    "    \n",
    "    t = -np.sum(v * pq) / np.sum(v**2) # this t moves the intercept btw straight & perp where they are pi/2   \n",
    "    intercept = p0 + t * v\n",
    "    \n",
    "    distance = np.sqrt( np.sum((q - intercept)**2) )\n",
    "    \n",
    "    error = np.dot(v, intercept - q)\n",
    "#     print error\n",
    "    \n",
    "    return intercept, distance, error"
   ]
  },
  {
   "cell_type": "markdown",
   "metadata": {},
   "source": [
    "# Working method"
   ]
  },
  {
   "cell_type": "code",
   "execution_count": 41,
   "metadata": {},
   "outputs": [
    {
     "name": "stdout",
     "output_type": "stream",
     "text": [
      "919\n",
      "True\n",
      "True\n"
     ]
    }
   ],
   "source": [
    "tr = d['P29']['trials']['t14']\n",
    "ro = np.where(np.array(tr['startmovement']) == 1)[0][0]\n",
    "print ro\n",
    "\n",
    "x = tr['index8x'][ro:]\n",
    "y = tr['index8y'][ro:]\n",
    "z = tr['index8z'][ro:]\n",
    "name = tr['name']\n",
    "\n",
    "linex, liney, linez = get_3d_line(x, y, z)\n",
    "\n",
    "print linex[0] == x[0]\n",
    "print linex[-1] == x[-1]\n",
    "\n",
    "xs = np.array([])\n",
    "ys = np.array([])\n",
    "zs = np.array([])\n",
    "error = []\n",
    "\n",
    "first = [x[0], y[0], z[0]]\n",
    "last = [x[-1], y[-1], z[-1]]\n",
    "\n",
    "for i in range(len(x)):\n",
    "    (px, py, pz), dist, err = get_intercept(first, last, [ x[i], y[i], z[i] ])\n",
    "    xs = np.append(xs, px)\n",
    "    ys = np.append(ys, py)\n",
    "    zs = np.append(zs, pz)\n",
    "    error.append(err)"
   ]
  },
  {
   "cell_type": "code",
   "execution_count": 42,
   "metadata": {
    "collapsed": true
   },
   "outputs": [],
   "source": [
    "%matplotlib qt\n",
    "\n",
    "fig = plt.figure()\n",
    "\n",
    "ax = fig.add_subplot(111, projection = '3d')\n",
    "\n",
    "ax.plot(x, y, z, 'r.-', linewidth = 0.5)\n",
    "# ax.plot(linex, liney, linez, 'b-', linewidth = 0.5)\n",
    "ax.plot(xs, ys, zs, 'b.-', linewidth = 0.5)\n",
    "for i in range(len(x)):\n",
    "    ax.plot([x[i], xs[i]], [y[i], ys[i]], [z[i], zs[i]], 'g-', linewidth = 0.3)\n",
    "\n",
    "ax.set_xlabel('x axis')\n",
    "ax.set_ylabel('y axis')\n",
    "ax.set_zlabel('z axis')\n",
    "ax.set_title(name)\n",
    "plt.show()"
   ]
  },
  {
   "cell_type": "code",
   "execution_count": 30,
   "metadata": {},
   "outputs": [],
   "source": [
    "%matplotlib qt\n",
    "\n",
    "plt.plot(error)\n",
    "plt.show()"
   ]
  },
  {
   "cell_type": "code",
   "execution_count": 44,
   "metadata": {},
   "outputs": [
    {
     "name": "stdout",
     "output_type": "stream",
     "text": [
      "0.0\n"
     ]
    }
   ],
   "source": [
    "print dist"
   ]
  },
  {
   "cell_type": "code",
   "execution_count": 10,
   "metadata": {
    "collapsed": true
   },
   "outputs": [],
   "source": [
    "% matplotlib qt\n",
    "\n",
    "vel1 = np.sqrt(np.diff(xs)**2 + np.diff(ys)**2 + np.diff(zs)**2) * 130\n",
    "vel2 = np.sqrt(np.diff(x)**2 + np.diff(y)**2 + np.diff(z)**2) * 130\n",
    "plt.plot(vel1, label = 'ideal')\n",
    "plt.plot(vel2, label = 'actual')\n",
    "# plt.plot(tr['wrist11vel'][ro:])\n",
    "plt.legend()\n",
    "plt.show()"
   ]
  },
  {
   "cell_type": "code",
   "execution_count": 11,
   "metadata": {
    "collapsed": true
   },
   "outputs": [],
   "source": [
    "%matplotlib qt\n",
    "\n",
    "fig = plt.figure(figsize = [10, 8])\n",
    "\n",
    "ax1 = fig.add_subplot(311)\n",
    "ax1.plot(xs, '-', label = 'ideal')\n",
    "ax1.plot(x, '-', label = 'actual')\n",
    "\n",
    "ax2 = fig.add_subplot(312)\n",
    "ax2.plot(ys, '-', label = 'ideal')\n",
    "ax2.plot(y, '-', label = 'actual')\n",
    "\n",
    "ax3 = fig.add_subplot(313)\n",
    "ax3.plot(zs, '-', label = 'ideal')\n",
    "ax3.plot(z, '-', label = 'actual')\n",
    "\n",
    "ax1.legend()\n",
    "plt.show()"
   ]
  },
  {
   "cell_type": "markdown",
   "metadata": {},
   "source": [
    "# Unmatched points"
   ]
  },
  {
   "cell_type": "code",
   "execution_count": 6,
   "metadata": {
    "collapsed": true
   },
   "outputs": [],
   "source": [
    "%matplotlib qt\n",
    "\n",
    "fig = plt.figure()\n",
    "\n",
    "ax1 = fig.add_subplot(121, projection = '3d')\n",
    "\n",
    "ax1.plot(x, y, z, 'r.-', linewidth = 0.5)\n",
    "ax1.plot(linex, liney, linez, 'b.-')\n",
    "\n",
    "for i in range(len(x)):\n",
    "    ax1.plot([x[i], linex[i]],\n",
    "            [y[i], liney[i]],\n",
    "            [z[i], linez[i]], 'g-', linewidth = 0.3)\n",
    "\n",
    "ax1.set_xlabel('x axis')\n",
    "ax1.set_ylabel('y axis')\n",
    "ax1.set_zlabel('z axis')\n",
    "# ax1.set_title(tr['name'])\n",
    "ax1.set_facecolor([0.98, 0.98, 0.98])\n",
    "\n",
    "ax2 = fig.add_subplot(322)\n",
    "ax2.plot(x, 'r.-', linewidth = 0.5)\n",
    "ax2.plot(linex, 'b.-', linewidth = 0.5)\n",
    "for i in range(len(x)):\n",
    "    ax2.plot([i, i], [x[i], linex[i]], 'g-', linewidth = 0.3)\n",
    "ax2.set_title('x axis')\n",
    "\n",
    "\n",
    "ax3 = fig.add_subplot(324)\n",
    "ax3.plot(y, 'r.-', linewidth = 0.5)\n",
    "ax3.plot(liney, 'b.-', linewidth = 0.5)\n",
    "for i in range(len(x)):\n",
    "    ax3.plot([i, i], [y[i], liney[i]], 'g-', linewidth = 0.3)\n",
    "ax3.set_title('y axis')\n",
    "\n",
    "\n",
    "ax4 = fig.add_subplot(326)\n",
    "ax4.plot(z, 'r.-', linewidth = 0.5)\n",
    "ax4.plot(linez, 'b.-', linewidth = 0.5)\n",
    "for i in range(len(x)):\n",
    "    ax4.plot([i, i], [z[i], linez[i]], 'g-', linewidth = 0.3)\n",
    "ax4.set_title('z axis')\n",
    "\n",
    "plt.suptitle(tr['name'])\n",
    "plt.tight_layout()\n",
    "plt.show()"
   ]
  },
  {
   "cell_type": "markdown",
   "metadata": {},
   "source": [
    "# Try this"
   ]
  },
  {
   "cell_type": "code",
   "execution_count": 20,
   "metadata": {},
   "outputs": [
    {
     "data": {
      "text/plain": [
       "[<mpl_toolkits.mplot3d.art3d.Line3D at 0x7fe145b99490>]"
      ]
     },
     "execution_count": 20,
     "metadata": {},
     "output_type": "execute_result"
    }
   ],
   "source": [
    "%matplotlib qt\n",
    "\n",
    "velx = np.sqrt(np.diff(x)**2)\n",
    "vely = np.sqrt(np.diff(y)**2)\n",
    "velz = np.sqrt(np.diff(z)**2)\n",
    "\n",
    "linex, liney, linez = get_3d_line(x, y, z)\n",
    "\n",
    "dx = x - linex\n",
    "dy = y - liney\n",
    "dz = z - linez\n",
    "\n",
    "linex = linex * dx\n",
    "liney = liney * dy\n",
    "linez = linez * dz\n",
    "\n",
    "fig = plt.figure()\n",
    "ax = fig.add_subplot(111, projection = '3d')\n",
    "\n",
    "ax.plot(linex, liney, linez, '.-')"
   ]
  },
  {
   "cell_type": "markdown",
   "metadata": {},
   "source": [
    "# Other stuff"
   ]
  },
  {
   "cell_type": "code",
   "execution_count": null,
   "metadata": {
    "collapsed": true
   },
   "outputs": [],
   "source": [
    "def get_intersect(l0, l1, p):\n",
    "    l0x = l0[0]; l0y = l0[1]; l0z = l0[2]\n",
    "    l1x = l1[0]; l1y = l1[1]; l1z = l1[2]\n",
    "    px = p[0]; py = p[1]; pz = p[2]\n",
    "    \n",
    "    u = (px - l0x) * (l1x - l0x) + (py - l0y) * (l1y - l0y) + (pz - l0z) * (l1z - l0z)\n",
    "    print u\n",
    "    a = [ px  - l0x, py  - l0y, pz  - l0z ]\n",
    "    b = [ l1x - l0x, l1y - l0y, l1z - l0z ]\n",
    "    print np.dot(a, b)\n",
    "    dist = np.sqrt( (l1x - l0x)**2 + (l1y - l0y)**2 + (l1z - l0z)**2 )\n",
    "    u = u / (dist**2)\n",
    "    \n",
    "    tx = l0x + u * (l1x - l0x)\n",
    "    ty = l0y + u * (l1y - l0y)\n",
    "    tz = l0z + u * (l1z - l0z)\n",
    "    \n",
    "    return (tx, ty, tz)"
   ]
  },
  {
   "cell_type": "code",
   "execution_count": null,
   "metadata": {
    "collapsed": true
   },
   "outputs": [],
   "source": [
    "px, py, pz = get_intersect([x[0], y[0], z[0]], [x[-1], y[-1], z[-1]], [x[60], y[60], z[60]])"
   ]
  },
  {
   "cell_type": "code",
   "execution_count": null,
   "metadata": {
    "collapsed": true
   },
   "outputs": [],
   "source": [
    "# https://arstechnica.com/civis/viewtopic.php?f=26&t=149128\n",
    "# http://www.math.ucla.edu/~ronmiech/Calculus_Problems/32A/chap11/section5/717d57/717_57.html\n",
    "# http://people.math.sc.edu/filaseta/courses/Math241/Math241Quiz4Fall2013Sols.pdf\n",
    "      \n",
    "x0 = x[0]; x1 = x[-1]\n",
    "y0 = y[0]; y1 = y[-1]\n",
    "z0 = z[0]; z1 = z[-1]\n",
    "\n",
    "a = x1 - x0\n",
    "b = y1 - y0\n",
    "c = z1 - z0\n",
    "\n",
    "t = np.linspace(0, 1, 100)\n",
    "xs = np.array(x[30] + t*a)\n",
    "ys = np.array(y[30] + t*b)\n",
    "zs = np.array(z[30] + t*c)\n"
   ]
  },
  {
   "cell_type": "code",
   "execution_count": null,
   "metadata": {
    "collapsed": true
   },
   "outputs": [],
   "source": [
    "xs"
   ]
  },
  {
   "cell_type": "code",
   "execution_count": null,
   "metadata": {
    "collapsed": true
   },
   "outputs": [],
   "source": [
    "%matplotlib qt\n",
    "\n",
    "fig = plt.figure()\n",
    "\n",
    "ax = fig.add_subplot(111, projection = '3d')\n",
    "\n",
    "ax.plot(x, y, z, 'r-')\n",
    "ax.plot(linex, liney, linez, 'b-')\n",
    "\n",
    "ax.scatter(x[30], y[30], z[30], 'r.')\n",
    "ax.plot(xs, ys, zs, 'g-')\n",
    "\n",
    "plt.show()"
   ]
  },
  {
   "cell_type": "code",
   "execution_count": null,
   "metadata": {
    "collapsed": true
   },
   "outputs": [],
   "source": [
    "xp = np.diff(x)\n",
    "yp = np.diff(y)\n",
    "zp = np.diff(z)\n",
    "\n",
    "lx = linex[1:] + linex[0] * xp\n",
    "ly = liney[1:] + linex[0] * yp\n",
    "lz = linez[1:] + linex[0] * zp"
   ]
  },
  {
   "cell_type": "code",
   "execution_count": null,
   "metadata": {
    "collapsed": true
   },
   "outputs": [],
   "source": [
    "%matplotlib qt\n",
    "\n",
    "fig = plt.figure()\n",
    "\n",
    "ax = fig.add_subplot(111, projection = '3d')\n",
    "\n",
    "ax.plot(x, y, z, 'r.-', linewidth = 0.5)\n",
    "ax.plot(lx, ly, lz, 'b.-', linewidth = 0.5)\n",
    "\n",
    "for i in range(len(xp)):\n",
    "    ax.plot([x[i], lx[i]],\n",
    "            [y[i], ly[i]],\n",
    "            [z[i], lz[i]], 'g-', linewidth = 0.3)\n",
    "\n",
    "plt.show()"
   ]
  },
  {
   "cell_type": "code",
   "execution_count": null,
   "metadata": {
    "collapsed": true,
    "scrolled": true
   },
   "outputs": [],
   "source": [
    "# https://math.stackexchange.com/questions/621868/determine-if-two-straight-lines-given-by-parametric-equations-intersect\n",
    "# https://math.stackexchange.com/questions/270767/find-intersection-of-two-3d-lines\n",
    "\n",
    "x0 = x[0]; x1 = x[-1]\n",
    "y0 = y[0]; y1 = y[-1]\n",
    "z0 = z[0]; z1 = z[-1]\n",
    "\n",
    "a = x1 - x0\n",
    "b = y1 - y0\n",
    "c = z1 - z0\n",
    "\n",
    "v = np.array([a, b, c]) # direction vector of the straight line\n",
    "p = np.array([x0, y0, z0]) # point on the straight line (initial point, the intercept btw line & curve)\n",
    "\n",
    "q = np.array([x[60], y[60], z[60]]) # point on the curve\n",
    "\n",
    "PQ = q - p\n",
    "# PQ = p - q\n",
    "\n",
    "v1 = np.cross(PQ, v)\n",
    "v2 = np.cross(v1, v)\n",
    "\n",
    "print v2\n",
    "\n",
    "t = np.linspace(0, 10, 2)\n",
    "\n",
    "xline = q[0] + v2[0] * t\n",
    "yline = q[1] + v2[1] * t\n",
    "zline = q[2] + v2[2] * t\n",
    "\n",
    "# xline1 = x0 + a * t\n",
    "# yline1 = y0 + b * t\n",
    "# zline1 = z0 + c * t\n",
    "\n",
    "\n",
    "print np.dot(v2, v)"
   ]
  },
  {
   "cell_type": "code",
   "execution_count": null,
   "metadata": {
    "collapsed": true
   },
   "outputs": [],
   "source": [
    "p0 = np.array([x[0], y[0], z[0]]) # point on the straight line\n",
    "p1 = np.array([x[-1], y[-1], z[-1]])\n",
    "v = np.array(p1 - p0) # direction of the straight line\n",
    "\n",
    "a0 = np.array([x[60], y[60], z[60]])\n",
    "va = p0 - a0 # point on a direction vector for the perpendicular line\n",
    "\n",
    "# p0 = np.array([4.0, 2.0, 4.0]) # point on the straight line\n",
    "# v = np.array([1.0, 3.0, 5.0]) # direction of the straight line\n",
    "\n",
    "# a0 = np.array([1.0, 1.0, 2.0]) # the given point\n",
    "# va = p0 - a0 # point on a direction vector for the perpendicular line\n",
    "\n",
    "t = -np.sum(v * va) / np.sum(v**2)\n",
    "print t\n",
    "\n",
    "thepoint = p0 + t * v\n",
    "print thepoint"
   ]
  }
 ],
 "metadata": {
  "kernelspec": {
   "display_name": "Python 2",
   "language": "python",
   "name": "python2"
  },
  "language_info": {
   "codemirror_mode": {
    "name": "ipython",
    "version": 2
   },
   "file_extension": ".py",
   "mimetype": "text/x-python",
   "name": "python",
   "nbconvert_exporter": "python",
   "pygments_lexer": "ipython2",
   "version": "2.7.13"
  }
 },
 "nbformat": 4,
 "nbformat_minor": 2
}
