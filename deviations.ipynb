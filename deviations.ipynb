{
 "cells": [
  {
   "cell_type": "code",
   "execution_count": 1,
   "metadata": {
    "collapsed": true
   },
   "outputs": [],
   "source": [
    "from tools import *\n",
    "import matplotlib.pyplot as plt\n",
    "import numpy as np\n",
    "from mpl_toolkits.mplot3d import Axes3D\n",
    "\n",
    "%config InlineBackend.figure_format = 'retina'\n",
    "% matplotlib qt\n",
    "plt.style.use('ggplot')\n",
    "\n",
    "d = manual_load_data('clean_data.pkl')"
   ]
  },
  {
   "cell_type": "code",
   "execution_count": 2,
   "metadata": {
    "collapsed": true
   },
   "outputs": [],
   "source": [
    "# Define a function that returns coordinates of a straight line connecting two points in 3d\n",
    "\n",
    "def get_3d_line(vec_x, vec_y, vec_z):\n",
    "        \n",
    "    x0 = vec_x[0]; x1 = vec_x[-1]\n",
    "    y0 = vec_y[0]; y1 = vec_y[-1]\n",
    "    z0 = vec_z[0]; z1 = vec_z[-1]\n",
    "    \n",
    "    a = x1 - x0\n",
    "    b = y1 - y0\n",
    "    c = z1 - z0\n",
    "   \n",
    "    t = np.linspace(0, 1, len(vec_x))\n",
    "    xs = np.array([x0 + t*a])\n",
    "    ys = np.array([y0 + t*b])\n",
    "    zs = np.array([z0 + t*c])\n",
    "    \n",
    "    return (xs[0], ys[0], zs[0])"
   ]
  },
  {
   "cell_type": "code",
   "execution_count": 8,
   "metadata": {},
   "outputs": [
    {
     "name": "stdout",
     "output_type": "stream",
     "text": [
      "918\n",
      "True\n",
      "True\n"
     ]
    }
   ],
   "source": [
    "tr = d['P11']['trials']['t16']\n",
    "ro = np.where(np.array(tr['startmovement']) == 1)[0][0]\n",
    "print ro\n",
    "\n",
    "x = tr['wrist11x'][ro:]\n",
    "y = tr['wrist11y'][ro:]\n",
    "z = tr['wrist11z'][ro:]\n",
    "\n",
    "linex, liney, linez = get_3d_line(x, y, z)\n",
    "\n",
    "print linex[0] == x[0]\n",
    "print linex[-1] == x[-1]"
   ]
  },
  {
   "cell_type": "code",
   "execution_count": 34,
   "metadata": {},
   "outputs": [],
   "source": [
    "fig = plt.figure()\n",
    "\n",
    "ax1 = fig.add_subplot(121, projection = '3d')\n",
    "\n",
    "ax1.plot(x, y, z, 'r.-', linewidth = 0.5)\n",
    "ax1.plot(linex, liney, linez, 'b.-')\n",
    "\n",
    "for i in range(len(x)):\n",
    "    ax1.plot([x[i], linex[i]],\n",
    "            [y[i], liney[i]],\n",
    "            [z[i], linez[i]], 'g-', linewidth = 0.3)\n",
    "\n",
    "ax1.set_xlabel('x axis')\n",
    "ax1.set_ylabel('y axis')\n",
    "ax1.set_zlabel('z axis')\n",
    "# ax1.set_title(tr['name'])\n",
    "ax1.set_facecolor([0.98, 0.98, 0.98])\n",
    "\n",
    "ax2 = fig.add_subplot(322)\n",
    "ax2.plot(x, 'r.-', linewidth = 0.5)\n",
    "ax2.plot(linex, 'b.-', linewidth = 0.5)\n",
    "for i in range(len(x)):\n",
    "    ax2.plot([i, i], [x[i], linex[i]], 'g-', linewidth = 0.3)\n",
    "ax2.set_title('x axis')\n",
    "\n",
    "\n",
    "ax3 = fig.add_subplot(324)\n",
    "ax3.plot(y, 'r.-', linewidth = 0.5)\n",
    "ax3.plot(liney, 'b.-', linewidth = 0.5)\n",
    "for i in range(len(x)):\n",
    "    ax3.plot([i, i], [y[i], liney[i]], 'g-', linewidth = 0.3)\n",
    "ax3.set_title('y axis')\n",
    "\n",
    "\n",
    "ax4 = fig.add_subplot(326)\n",
    "ax4.plot(z, 'r.-', linewidth = 0.5)\n",
    "ax4.plot(linez, 'b.-', linewidth = 0.5)\n",
    "for i in range(len(x)):\n",
    "    ax4.plot([i, i], [z[i], linez[i]], 'g-', linewidth = 0.3)\n",
    "ax4.set_title('z axis')\n",
    "\n",
    "plt.suptitle(tr['name'])\n",
    "plt.tight_layout()\n",
    "plt.show()"
   ]
  }
 ],
 "metadata": {
  "kernelspec": {
   "display_name": "Python 2",
   "language": "python",
   "name": "python2"
  },
  "language_info": {
   "codemirror_mode": {
    "name": "ipython",
    "version": 2
   },
   "file_extension": ".py",
   "mimetype": "text/x-python",
   "name": "python",
   "nbconvert_exporter": "python",
   "pygments_lexer": "ipython2",
   "version": "2.7.13"
  }
 },
 "nbformat": 4,
 "nbformat_minor": 2
}
