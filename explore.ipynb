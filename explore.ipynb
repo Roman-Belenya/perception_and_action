{
 "cells": [
  {
   "cell_type": "markdown",
   "metadata": {
    "collapsed": true
   },
   "source": [
    "# Results 5 June\n",
    "\n",
    "There are two data tables in the analysis:  \n",
    "- accuracies table contains the data for each trial (one row = one trial)  \n",
    "- fixations table contains variables for each fixation in a given trial (one row = one fixation)\n",
    "\n",
    "\n",
    "The two can be merged if only one row per trial is selected from the fixaions table\n",
    "\n",
    "[Deviations analysis](#Deviations-from-a-staight-line)"
   ]
  },
  {
   "cell_type": "code",
   "execution_count": 1,
   "metadata": {
    "collapsed": true
   },
   "outputs": [],
   "source": [
    "from tools import *\n",
    "import pandas as pd\n",
    "import seaborn as sns\n",
    "from matplotlib import cm\n",
    "from mpl_toolkits.mplot3d import Axes3D\n",
    "from scipy.stats import ks_2samp\n",
    "from IPython.display import display\n",
    "style.use('ggplot')\n",
    "d = manual_load_data('clean_data.pkl')\n",
    "%matplotlib inline\n",
    "%config InlineBackend.figure_format = 'retina'\n",
    "%load_ext rpy2.ipython"
   ]
  },
  {
   "cell_type": "code",
   "execution_count": 2,
   "metadata": {},
   "outputs": [
    {
     "data": {
      "text/html": [
       "<div>\n",
       "<table border=\"1\" class=\"dataframe\">\n",
       "  <thead>\n",
       "    <tr style=\"text-align: right;\">\n",
       "      <th></th>\n",
       "      <th>P07</th>\n",
       "      <th>P08</th>\n",
       "      <th>P09</th>\n",
       "      <th>P11</th>\n",
       "      <th>P12</th>\n",
       "      <th>P16</th>\n",
       "      <th>P18</th>\n",
       "      <th>P19</th>\n",
       "      <th>P21</th>\n",
       "      <th>P22</th>\n",
       "      <th>P23</th>\n",
       "      <th>P25</th>\n",
       "      <th>P26</th>\n",
       "      <th>P29</th>\n",
       "      <th>P31</th>\n",
       "      <th>P34</th>\n",
       "    </tr>\n",
       "  </thead>\n",
       "  <tbody>\n",
       "    <tr>\n",
       "      <th>index</th>\n",
       "      <td>index8</td>\n",
       "      <td>index8</td>\n",
       "      <td>index7</td>\n",
       "      <td>index8</td>\n",
       "      <td>index8</td>\n",
       "      <td>index8</td>\n",
       "      <td>index8</td>\n",
       "      <td>index8</td>\n",
       "      <td>index7</td>\n",
       "      <td>index8</td>\n",
       "      <td>index8</td>\n",
       "      <td>index8</td>\n",
       "      <td>index8</td>\n",
       "      <td>index8</td>\n",
       "      <td>index8</td>\n",
       "      <td>index8</td>\n",
       "    </tr>\n",
       "    <tr>\n",
       "      <th>thumb</th>\n",
       "      <td>thumb9</td>\n",
       "      <td>thumb9</td>\n",
       "      <td>thumb9</td>\n",
       "      <td>thumb9</td>\n",
       "      <td>thumb9</td>\n",
       "      <td>thumb9</td>\n",
       "      <td>thumb9</td>\n",
       "      <td>thumb9</td>\n",
       "      <td>thumb9</td>\n",
       "      <td>thumb9</td>\n",
       "      <td>thumb9</td>\n",
       "      <td>thumb9</td>\n",
       "      <td>thumb9</td>\n",
       "      <td>thumb9</td>\n",
       "      <td>thumb9</td>\n",
       "      <td>thumb9</td>\n",
       "    </tr>\n",
       "    <tr>\n",
       "      <th>wrist</th>\n",
       "      <td>wrist11</td>\n",
       "      <td>wrist11</td>\n",
       "      <td>wrist11</td>\n",
       "      <td>wrist11</td>\n",
       "      <td>wrist11</td>\n",
       "      <td>wrist12</td>\n",
       "      <td>wrist11</td>\n",
       "      <td>wrist11</td>\n",
       "      <td>wrist11</td>\n",
       "      <td>wrist11</td>\n",
       "      <td>wrist11</td>\n",
       "      <td>wrist11</td>\n",
       "      <td>wrist11</td>\n",
       "      <td>wrist11</td>\n",
       "      <td>wrist11</td>\n",
       "      <td>wrist11</td>\n",
       "    </tr>\n",
       "  </tbody>\n",
       "</table>\n",
       "</div>"
      ],
      "text/plain": [
       "           P07      P08      P09      P11      P12      P16      P18      P19  \\\n",
       "index   index8   index8   index7   index8   index8   index8   index8   index8   \n",
       "thumb   thumb9   thumb9   thumb9   thumb9   thumb9   thumb9   thumb9   thumb9   \n",
       "wrist  wrist11  wrist11  wrist11  wrist11  wrist11  wrist12  wrist11  wrist11   \n",
       "\n",
       "           P21      P22      P23      P25      P26      P29      P31      P34  \n",
       "index   index7   index8   index8   index8   index8   index8   index8   index8  \n",
       "thumb   thumb9   thumb9   thumb9   thumb9   thumb9   thumb9   thumb9   thumb9  \n",
       "wrist  wrist11  wrist11  wrist11  wrist11  wrist11  wrist11  wrist11  wrist11  "
      ]
     },
     "execution_count": 2,
     "metadata": {},
     "output_type": "execute_result"
    }
   ],
   "source": [
    "markers = {}\n",
    "markers['P07'] = {'index': 'index8', 'thumb': 'thumb9', 'wrist': 'wrist11'}\n",
    "markers['P08'] = {'index': 'index8', 'thumb': 'thumb9', 'wrist': 'wrist11'}\n",
    "markers['P09'] = {'index': 'index7', 'thumb': 'thumb9', 'wrist': 'wrist11'}\n",
    "markers['P11'] = {'index': 'index8', 'thumb': 'thumb9', 'wrist': 'wrist11'}\n",
    "markers['P12'] = {'index': 'index8', 'thumb': 'thumb9', 'wrist': 'wrist11'}\n",
    "markers['P16'] = {'index': 'index8', 'thumb': 'thumb9', 'wrist': 'wrist12'}\n",
    "markers['P18'] = {'index': 'index8', 'thumb': 'thumb9', 'wrist': 'wrist11'}\n",
    "markers['P19'] = {'index': 'index8', 'thumb': 'thumb9', 'wrist': 'wrist11'}\n",
    "markers['P21'] = {'index': 'index7', 'thumb': 'thumb9', 'wrist': 'wrist11'}\n",
    "markers['P22'] = {'index': 'index8', 'thumb': 'thumb9', 'wrist': 'wrist11'}\n",
    "markers['P23'] = {'index': 'index8', 'thumb': 'thumb9', 'wrist': 'wrist11'}\n",
    "markers['P25'] = {'index': 'index8', 'thumb': 'thumb9', 'wrist': 'wrist11'}\n",
    "markers['P26'] = {'index': 'index8', 'thumb': 'thumb9', 'wrist': 'wrist11'}\n",
    "markers['P29'] = {'index': 'index8', 'thumb': 'thumb9', 'wrist': 'wrist11'}\n",
    "markers['P31'] = {'index': 'index8', 'thumb': 'thumb9', 'wrist': 'wrist11'}\n",
    "markers['P34'] = {'index': 'index8', 'thumb': 'thumb9', 'wrist': 'wrist11'}\n",
    "\n",
    "pd.DataFrame(markers)"
   ]
  },
  {
   "cell_type": "code",
   "execution_count": null,
   "metadata": {
    "collapsed": true
   },
   "outputs": [],
   "source": [
    "def std_error(values):\n",
    "    if type(values) is not np.ndarray:\n",
    "        values = np.array(values)\n",
    "    std_err = np.std(values) / np.sqrt(len(values))\n",
    "    \n",
    "    return std_err"
   ]
  },
  {
   "cell_type": "markdown",
   "metadata": {},
   "source": [
    "## Distance to object's centre for index & gaze"
   ]
  },
  {
   "cell_type": "code",
   "execution_count": null,
   "metadata": {
    "collapsed": true
   },
   "outputs": [],
   "source": [
    "accuracies = pd.DataFrame()\n",
    "\n",
    "for pid, subj in d.items():\n",
    "    \n",
    "    index_x = markers[pid]['index'] + 'x'\n",
    "    wrist_vel = markers[pid]['wrist'] + 'vel'\n",
    "    \n",
    "    for tid, trial in subj['trials'].items():\n",
    "        \n",
    "        # identify the reach onset frame\n",
    "        sm = np.array(trial['startmovement'])\n",
    "        ro_frame = np.where(sm == 1)[0][0]\n",
    "        \n",
    "        # get the fixations table for a trial\n",
    "        fix = pd.DataFrame(trial['fix'])\n",
    "                \n",
    "        # find the eye and index to object distances\n",
    "        index_object = trial[index_x][-1] - trial['objectx'][-1]\n",
    "        eyes_object_final = fix.iloc[-1]['centre_x'] - trial['objectx'][-1] # final fixation in a trial\n",
    "        \n",
    "        ro_fix = fix[(fix['start_frame'] <= ro_frame) & (fix['end_frame'] >= ro_frame)]\n",
    "        \n",
    "        if not ro_fix['centre_x'].any():\n",
    "            ro_fix_x = fix[fix['start_frame'] >= ro_frame]['centre_x'].iloc[0]\n",
    "        else:\n",
    "            ro_fix_x = ro_fix['centre_x'].iloc[0]\n",
    "            \n",
    "        eyes_object_ro = ro_fix_x - trial['objectx'][ro_frame]\n",
    "        \n",
    "        if 'RightToLeft' in trial['name']:\n",
    "            index_object *= -1\n",
    "            eyes_object_final *= -1\n",
    "            eyes_object_ro *= -1\n",
    "            \n",
    "        # reach duration in frames\n",
    "        reach_duration = len(np.where(sm == 1)[0])\n",
    "        \n",
    "        # peak velocity frame\n",
    "        vel = np.array(trial[wrist_vel])\n",
    "        peak_vel = np.where(vel == max(vel))[0][0]\n",
    "        \n",
    "        # wrist deceleration time in frames\n",
    "        wrist_decel = len(vel[peak_vel:])\n",
    "        \n",
    "        # reaction time: reach initiation frame - tone frame (880 is when the tone starts to play)\n",
    "        reaction = ro_frame - 880\n",
    "            \n",
    "        cond = trial['name'][6:-4]\n",
    "        \n",
    "        to_add = pd.Series()\n",
    "        to_add['p'] = pid\n",
    "        to_add['condition'] = cond\n",
    "        to_add['trial'] = tid\n",
    "        to_add['ro_frame'] = ro_frame\n",
    "        to_add['reach_duration'] = reach_duration\n",
    "        to_add['peak_vel'] = peak_vel\n",
    "        to_add['wrist_decel'] = wrist_decel\n",
    "        to_add['reaction'] = reaction\n",
    "        to_add['index_object'] = index_object\n",
    "        to_add['eyes_object_final'] = eyes_object_final\n",
    "        to_add['eyes_object_ro'] = eyes_object_ro\n",
    "\n",
    "        \n",
    "        accuracies = accuracies.append(to_add, ignore_index = True)"
   ]
  },
  {
   "cell_type": "code",
   "execution_count": null,
   "metadata": {
    "collapsed": true
   },
   "outputs": [],
   "source": [
    "accuracies.sort_values(by = 'condition').head()"
   ]
  },
  {
   "cell_type": "code",
   "execution_count": null,
   "metadata": {
    "collapsed": true
   },
   "outputs": [],
   "source": [
    "inter1 = accuracies.groupby(['p', 'condition']).aggregate(np.mean)\n",
    "inter2 = inter1.reset_index(level = ['condition'])\n",
    "meanPerCondition = inter2.groupby('condition').aggregate(np.mean)\n",
    "\n",
    "meanPerCondition"
   ]
  },
  {
   "cell_type": "code",
   "execution_count": null,
   "metadata": {
    "collapsed": true
   },
   "outputs": [],
   "source": [
    "inter3 = inter1.reset_index(level = ['p', 'condition'])\n",
    "anovaTable = inter3.pivot(index = 'p', columns = 'condition', values = 'index_object')"
   ]
  },
  {
   "cell_type": "markdown",
   "metadata": {},
   "source": [
    "### Accuracy per condition"
   ]
  },
  {
   "cell_type": "code",
   "execution_count": null,
   "metadata": {
    "collapsed": true,
    "scrolled": false
   },
   "outputs": [],
   "source": [
    "anovaTable.mean(axis = 0).plot(kind = 'bar', yerr = anovaTable.std(axis = 0) / np.sqrt(len(anovaTable)))\n",
    "plt.show()"
   ]
  },
  {
   "cell_type": "markdown",
   "metadata": {},
   "source": [
    "### Accuracy per participant"
   ]
  },
  {
   "cell_type": "code",
   "execution_count": null,
   "metadata": {
    "collapsed": true
   },
   "outputs": [],
   "source": [
    "fig = plt.figure(figsize = [17, 5])\n",
    "\n",
    "ind = np.arange(len(anovaTable))\n",
    "width = 0.5\n",
    "\n",
    "ax1 = fig.add_subplot(121)\n",
    "ax1.bar(ind, anovaTable.iloc[:, 0:4].mean(axis = 1), width, yerr = anovaTable.iloc[:, 0:4].apply(std_error, axis = 1))\n",
    "\n",
    "ax1.axhline(anovaTable.iloc[:, 0:4].mean(axis = 1).mean(), c = 'b', linewidth = 0.7)\n",
    "ax1.axhline(anovaTable.iloc[:, 0:4].mean(axis = 1).mean() + anovaTable.iloc[:, 0:4].mean(axis = 1).std(),\n",
    "            c = 'b', linestyle = ':', linewidth = 0.7)\n",
    "ax1.axhline(anovaTable.iloc[:, 0:4].mean(axis = 1).mean() - anovaTable.iloc[:, 0:4].mean(axis = 1).std(),\n",
    "            c = 'b', linestyle = ':', linewidth = 0.7)\n",
    "\n",
    "ax1.axhline(anovaTable.iloc[:, 0:4].mean(axis = 1).mean() + 2*anovaTable.iloc[:, 0:4].mean(axis = 1).std(),\n",
    "            c = 'g', linestyle = ':', linewidth = 0.7)\n",
    "ax1.axhline(anovaTable.iloc[:, 0:4].mean(axis = 1).mean() - 2*anovaTable.iloc[:, 0:4].mean(axis = 1).std(),\n",
    "            c = 'g', linestyle = ':', linewidth = 0.7)\n",
    "\n",
    "ax1.set_xticks(ind)\n",
    "ax1.set_xticklabels(anovaTable.index)\n",
    "ax1.set_title('Occlusion')\n",
    "\n",
    "ax2 = fig.add_subplot(122, sharey = ax1)\n",
    "ax2.bar(ind, anovaTable.iloc[:, 4:].mean(axis = 1), width, yerr = anovaTable.iloc[:, 4:].apply(std_error, axis = 1))\n",
    "ax2.set_xticks(ind)\n",
    "ax2.set_xticklabels(anovaTable.index)\n",
    "ax2.set_title('Visible')\n",
    "\n",
    "plt.show()"
   ]
  },
  {
   "cell_type": "code",
   "execution_count": null,
   "metadata": {
    "collapsed": true
   },
   "outputs": [],
   "source": [
    "# Distribution of grasping distances from the target COM\n",
    "\n",
    "fig = plt.figure(figsize = [15, 5])\n",
    "\n",
    "ax1 = fig.add_subplot(121)\n",
    "ax1.hist(accuracies[accuracies['condition'] == 'Occlusion_Cue_LeftToRight']['index_object'], bins = 20)\n",
    "ax1.set_title('Cues')\n",
    "\n",
    "ax2 = fig.add_subplot(122, sharex = ax1, sharey = ax1)\n",
    "ax2.hist(accuracies[accuracies['condition'] == 'Occlusion_NoCue_LeftToRight']['index_object'], bins = 20)\n",
    "ax2.set_title('No cues')\n",
    "\n",
    "\n",
    "plt.show()"
   ]
  },
  {
   "cell_type": "markdown",
   "metadata": {},
   "source": [
    "### Reaction time"
   ]
  },
  {
   "cell_type": "code",
   "execution_count": null,
   "metadata": {
    "collapsed": true
   },
   "outputs": [],
   "source": [
    "rt = accuracies.groupby(['p', 'condition'])['reaction'] \\\n",
    "               .apply(np.mean) \\\n",
    "               .reset_index() \\\n",
    "               .groupby('condition') \\\n",
    "               .aggregate([np.mean, std_error])\n",
    "rt['reaction']['mean'].plot(kind = 'bar', yerr = rt['reaction']['std_error'])\n",
    "plt.show()"
   ]
  },
  {
   "cell_type": "code",
   "execution_count": null,
   "metadata": {
    "collapsed": true
   },
   "outputs": [],
   "source": [
    "# Convert the reaction time data frame to long format for anova\n",
    "\n",
    "rt_anova = accuracies.groupby(['p', 'condition'])['reaction'] \\\n",
    "                     .apply(np.mean) \\\n",
    "                     .reset_index()\n",
    "\n",
    "# rt_anova.pivot(index = 'p', columns = 'condition', values = 'reaction').to_csv('rt.csv')        \n",
    "\n",
    "vf = []\n",
    "cue = []\n",
    "direction = []\n",
    "\n",
    "for row in rt_anova.iterrows():\n",
    "    if 'Occlusion_' in row[1][1]:\n",
    "        vf.append('occlusion')\n",
    "    elif 'Visible_' in row[1][1]:\n",
    "        vf.append('visible')\n",
    "    if '_Cue_' in row[1][1]:\n",
    "        cue.append('cue')\n",
    "    elif '_NoCue_' in row[1][1]:\n",
    "        cue.append('nocue')\n",
    "    if '_LeftToRight' in row[1][1]:\n",
    "        direction.append('rightward')\n",
    "    elif '_RightToLeft' in row[1][1]:\n",
    "        direction.append('leftward')\n",
    "\n",
    "rt_anova['vf'] = vf\n",
    "rt_anova['cue'] = cue\n",
    "rt_anova['dir'] = direction\n",
    "rt_anova = rt_anova.drop('condition', axis = 1)"
   ]
  },
  {
   "cell_type": "code",
   "execution_count": null,
   "metadata": {
    "collapsed": true
   },
   "outputs": [],
   "source": [
    "rt_anova.head()"
   ]
  },
  {
   "cell_type": "code",
   "execution_count": null,
   "metadata": {
    "collapsed": true
   },
   "outputs": [],
   "source": [
    "%%R -i rt_anova\n",
    "# http://blog.revolutionanalytics.com/2016/01/pipelining-r-python.html\n",
    "\n",
    "options(contrasts = c(\"contr.helmert\", \"contr.poly\"))\n",
    "fit <- aov(reaction ~ vf * cue * dir + Error(p / (vf * cue * dir)), data = rt_anova)\n",
    "\n",
    "\n",
    "summary(fit)"
   ]
  },
  {
   "cell_type": "markdown",
   "metadata": {},
   "source": [
    "## Fixations"
   ]
  },
  {
   "cell_type": "code",
   "execution_count": null,
   "metadata": {
    "collapsed": true
   },
   "outputs": [],
   "source": [
    "cues = [0.353 + n * 0.072 for n in range(8)]\n",
    "print cues"
   ]
  },
  {
   "cell_type": "code",
   "execution_count": null,
   "metadata": {
    "collapsed": true
   },
   "outputs": [],
   "source": [
    "# Create a common fixations table\n",
    "\n",
    "fixations = pd.DataFrame()\n",
    "\n",
    "for pid, subj in d.items():\n",
    "    \n",
    "    index_x = markers[pid]['index'] + 'x'\n",
    "\n",
    "    for tid, trial in subj['trials'].items():\n",
    "        \n",
    "        to_add = pd.DataFrame(trial['fix'])\n",
    "        \n",
    "        # identify the reach onset frame\n",
    "        sm = trial['startmovement']\n",
    "        ro_frame = np.where(np.array(sm) == 1)[0][0]\n",
    "                        \n",
    "        # identify the last fixation in a trial (or just the last row)\n",
    "        to_add['time_interval'] = None\n",
    "        to_add.loc[to_add.index[-1], 'time_interval'] = 3\n",
    "        \n",
    "        # add the data\n",
    "        to_add['p'] = pid\n",
    "        to_add['condition'] = trial['name'][6:-4]\n",
    "        to_add['trial'] = tid\n",
    "        to_add['ro_frame'] = ro_frame\n",
    "        \n",
    "        # remove the dispersion column\n",
    "        to_add.drop('dispersion', axis = 1, inplace = True)\n",
    " \n",
    "        fixations = fixations.append(to_add, ignore_index = True)\n"
   ]
  },
  {
   "cell_type": "code",
   "execution_count": null,
   "metadata": {
    "collapsed": true
   },
   "outputs": [],
   "source": [
    "# Determine the time interval \n",
    "# 0 = before occlusion. frames 0-495\n",
    "# 1 = visual pursuit. frames 496 - reach onset\n",
    "# 2 = reach onset - time of contact-1\n",
    "# 3 = time of contact\n",
    "\n",
    "time_interval = []\n",
    "\n",
    "for index, row in fixations.iterrows():\n",
    "    if row['time_interval'] == 3:\n",
    "        time_interval.append(3)\n",
    "        continue\n",
    "    elif row['start_frame'] <= 495:\n",
    "        time_interval.append(0)\n",
    "    elif 495 < row['start_frame'] < row['ro_frame']:\n",
    "        time_interval.append(1)\n",
    "    elif row['start_frame'] >= row['ro_frame']:\n",
    "        time_interval.append(2)\n",
    "\n",
    "fixations['time_interval'] = time_interval"
   ]
  },
  {
   "cell_type": "code",
   "execution_count": null,
   "metadata": {
    "collapsed": true
   },
   "outputs": [],
   "source": [
    "# Detect the off-screen outliers\n",
    "\n",
    "fixations['off_screen'] = (fixations.centre_x < 0.34) | (fixations.centre_x > 0.87) | \\\n",
    "    (fixations.centre_z < 0.18) | (fixations.centre_z > 0.48)\n",
    "    \n",
    "fixations['off_screen'].value_counts()"
   ]
  },
  {
   "cell_type": "code",
   "execution_count": null,
   "metadata": {
    "collapsed": true
   },
   "outputs": [],
   "source": [
    "# Find the distances between fixations and the closest cue\n",
    "\n",
    "closest_cue = []\n",
    "distance = []\n",
    "\n",
    "for index, row in fixations.iterrows():\n",
    "    dist = [row['centre_x'] - cue for cue in cues]\n",
    "    ind, = np.where(np.abs(dist) == min(np.abs(dist)))\n",
    "    closest_cue.append(ind[0])\n",
    "    distance.append(dist[ind[0]])\n",
    "    \n",
    "fixations['closest_cue'] = closest_cue\n",
    "fixations['distance_to'] = distance\n",
    "\n"
   ]
  },
  {
   "cell_type": "code",
   "execution_count": null,
   "metadata": {
    "collapsed": true
   },
   "outputs": [],
   "source": [
    "fixations = fixations[['p', 'condition', 'trial', 'centre_x', 'centre_z', 'start_frame', 'end_frame', 'duration',\n",
    "                       'ro_frame', 'time_interval', 'off_screen', 'closest_cue', 'distance_to']]\n",
    "fixations.head()"
   ]
  },
  {
   "cell_type": "code",
   "execution_count": null,
   "metadata": {
    "collapsed": true
   },
   "outputs": [],
   "source": [
    "# Number of fixations per closest cue\n",
    "\n",
    "fixations['closest_cue'].value_counts(sort = False).plot(kind = 'bar')\n",
    "plt.show()"
   ]
  },
  {
   "cell_type": "code",
   "execution_count": null,
   "metadata": {
    "collapsed": true
   },
   "outputs": [],
   "source": [
    "# Number of fixations in the time intervals\n",
    "\n",
    "fixations['time_interval'].value_counts(sort = False).plot(kind = 'bar')\n",
    "plt.show()"
   ]
  },
  {
   "cell_type": "markdown",
   "metadata": {},
   "source": [
    "### Fixations' location during visual pursuit"
   ]
  },
  {
   "cell_type": "code",
   "execution_count": null,
   "metadata": {
    "collapsed": true
   },
   "outputs": [],
   "source": [
    "# Fixations for occlusion, cue vs no cue, left to right\n",
    "\n",
    "\n",
    "ocl_fixations = fixations[(fixations['condition'] == 'Occlusion_Cue_LeftToRight') & \\\n",
    "                          (fixations['off_screen'] == False) & \\\n",
    "                          (fixations['time_interval'] == 1)]\n",
    "\n",
    "\n",
    "onl_fixations = fixations[(fixations['condition'] == 'Occlusion_NoCue_LeftToRight') & \\\n",
    "                          (fixations['off_screen'] == False) & \\\n",
    "                          (fixations['time_interval'] == 1)]\n"
   ]
  },
  {
   "cell_type": "code",
   "execution_count": null,
   "metadata": {
    "collapsed": true
   },
   "outputs": [],
   "source": [
    "fig = plt.figure(figsize = [15, 10])\n",
    "ax1 = fig.add_subplot(211)\n",
    "draw_cues(ax1, ybottom = 0.18, ytop = 0.48)\n",
    "ax1.plot(ocl_fixations['centre_x'], ocl_fixations['centre_z'], 'b.', alpha = 0.3, markersize = 10)\n",
    "ax1.set_title('cues')\n",
    "\n",
    "ax2 = fig.add_subplot(212)\n",
    "draw_cues(ax2, ybottom = 0.18, ytop = 0.48)\n",
    "ax2.plot(onl_fixations['centre_x'], onl_fixations['centre_z'], 'b.', alpha = 0.3, markersize = 10)\n",
    "ax2.set_title('no cues')\n",
    "\n",
    "plt.show()\n"
   ]
  },
  {
   "cell_type": "code",
   "execution_count": null,
   "metadata": {
    "collapsed": true
   },
   "outputs": [],
   "source": [
    "fig = plt.figure(figsize = [10, 10])\n",
    "ax1 = fig.add_subplot(211)\n",
    "ax1.hist(ocl_fixations['centre_x'], bins = 40)\n",
    "draw_cues(ax1)\n",
    "\n",
    "ax2 = fig.add_subplot(212, sharex = ax1)\n",
    "ax2.hist(onl_fixations['centre_x'], bins = 40)\n",
    "draw_cues(ax2)\n",
    "\n",
    "plt.show()"
   ]
  },
  {
   "cell_type": "code",
   "execution_count": null,
   "metadata": {
    "collapsed": true
   },
   "outputs": [],
   "source": [
    "# Overlay the cues & plot the closest fixations. 0 = cue position\n",
    "\n",
    "x1 = ocl_fixations['distance_to']\n",
    "x2 = onl_fixations['distance_to']\n",
    "\n",
    "fig = plt.figure(figsize = [10, 10])\n",
    "ax1 = fig.add_subplot(211)\n",
    "ax1.hist(x1, bins = 30)\n",
    "ax2 = fig.add_subplot(212, sharey = ax1)\n",
    "ax2.hist(x2, bins = 30)\n",
    "plt.show()"
   ]
  },
  {
   "cell_type": "code",
   "execution_count": null,
   "metadata": {
    "collapsed": true
   },
   "outputs": [],
   "source": [
    "\n",
    "for subj in d.values():\n",
    "    for trial in subj['trials'].values():\n",
    "        if 'Occlusion_Cue_LeftToRight' in trial['name']:\n",
    "            plt.plot(trial['fix']['centre_x'], trial['fix']['centre_z'], 'b-', alpha = 0.1, linewidth = 1)\n",
    "            plt.plot(trial['fix']['centre_x'][-1], trial['fix']['centre_z'][-1], 'r.')\n",
    "\n",
    "draw_cues(plt.gca(), ybottom = 0.18, ytop = 0.48)\n",
    "plt.ylim(0.18, 0.47)\n",
    "plt.show()"
   ]
  },
  {
   "cell_type": "code",
   "execution_count": null,
   "metadata": {
    "collapsed": true
   },
   "outputs": [],
   "source": [
    "# Kolmogorov-Smirnov two-sample test for ocl vs onl\n",
    "\n",
    "res = ks_2samp(x1, x2)\n",
    "print 'ks = {}\\np = {}'.format(round(res[0], 4), round(res[1], 4))"
   ]
  },
  {
   "cell_type": "markdown",
   "metadata": {},
   "source": [
    "### Fixations at the reach onset\n",
    "- select the cue/nocue condition and the third time interval\n",
    "- group by participant and trial id\n",
    "- grab the first fixation's x and z coordinates\n",
    "- merge the distance from gaze @ reach onset from the accuracies table"
   ]
  },
  {
   "cell_type": "code",
   "execution_count": null,
   "metadata": {
    "collapsed": true,
    "scrolled": true
   },
   "outputs": [],
   "source": [
    "fix_ro_ocl = fixations[(fixations['condition'] == 'Occlusion_Cue_LeftToRight') & (fixations['time_interval'] == 3)] \\\n",
    "                    .groupby(['trial', 'p'])[['centre_x', 'centre_z']] \\\n",
    "                    .apply(lambda x: x.iloc[0]) \\\n",
    "                    .reset_index()\n",
    "fix_ro_ocl = pd.merge(fix_ro_ocl, accuracies[['p', 'trial', 'eyes_object_ro']], on = ['p', 'trial'])\n",
    "\n",
    "fix_ro_onl = fixations[(fixations['condition'] == 'Occlusion_NoCue_LeftToRight') & (fixations['time_interval'] == 3)] \\\n",
    "                    .groupby(['trial', 'p'])[['centre_x', 'centre_z']] \\\n",
    "                    .apply(lambda x: x.iloc[0]) \\\n",
    "                    .reset_index()\n",
    "fix_ro_onl = pd.merge(fix_ro_onl, accuracies[['p', 'trial', 'eyes_object_ro']], on = ['p', 'trial'])\n",
    "\n",
    "fix_ro_onl.head()"
   ]
  },
  {
   "cell_type": "code",
   "execution_count": null,
   "metadata": {
    "collapsed": true,
    "scrolled": false
   },
   "outputs": [],
   "source": [
    "# Distribution of fixation-object distances at the reach onset\n",
    "\n",
    "fig = plt.figure(figsize = (12, 7))\n",
    "\n",
    "ax1 = fig.add_subplot(211)\n",
    "ax1.hist(fix_ro_ocl['eyes_object_ro'], bins = 20)\n",
    "\n",
    "ax2 = fig.add_subplot(212, sharex = ax1)\n",
    "ax2.hist(fix_ro_onl['eyes_object_ro'], bins = 20)\n",
    "ax2.set_xlabel('gaze - object distance @ reach onset')\n",
    "\n",
    "plt.show()"
   ]
  },
  {
   "cell_type": "code",
   "execution_count": null,
   "metadata": {
    "collapsed": true
   },
   "outputs": [],
   "source": [
    "# Fixations at the reach onset relative to the screen\n",
    "\n",
    "fig = plt.figure(figsize = (15, 10))\n",
    "\n",
    "ax1 = fig.add_subplot(221)\n",
    "ax1.plot(fix_ro_ocl.centre_x, fix_ro_ocl.centre_z, '.')\n",
    "ax1.set_xlim(0.34, 0.87)\n",
    "ax1.set_ylim(0.18, 0.48)\n",
    "draw_cues(ax1)\n",
    "\n",
    "ax2 = fig.add_subplot(222)\n",
    "ax2.hist(fix_ro_ocl.centre_x)\n",
    "draw_cues(ax2)\n",
    "ax2.set_xlim(0.6, 0.85)\n",
    "\n",
    "ax3 = fig.add_subplot(223)\n",
    "ax3.plot(fix_ro_onl.centre_x, fix_ro_onl.centre_z, '.')\n",
    "ax3.set_xlim(0.34, 0.87)\n",
    "ax3.set_ylim(0.18, 0.48)\n",
    "draw_cues(ax3)\n",
    "\n",
    "ax4 = fig.add_subplot(224, sharex = ax2)\n",
    "ax4.hist(fix_ro_onl.centre_x)\n",
    "draw_cues(ax4)\n",
    "ax4.set_xlim(0.6, 0.85)\n",
    "\n",
    "plt.show()"
   ]
  },
  {
   "cell_type": "markdown",
   "metadata": {},
   "source": [
    "### Fixations' location during reach"
   ]
  },
  {
   "cell_type": "code",
   "execution_count": null,
   "metadata": {
    "collapsed": true
   },
   "outputs": [],
   "source": [
    "ocl_fix_reach = fixations[(fixations['condition'] == 'Occlusion_Cue_LeftToRight') & \\\n",
    "                          (fixations['off_screen'] == False) & \\\n",
    "                          (fixations['time_interval'] == 2)]\n",
    "\n",
    "ocl_fix_final = fixations[(fixations['condition'] == 'Occlusion_Cue_LeftToRight') & \\\n",
    "                          (fixations['off_screen'] == False) & \\\n",
    "                          (fixations['time_interval'] == 3)]\n",
    "\n",
    "\n",
    "onl_fix_reach = fixations[(fixations['condition'] == 'Occlusion_NoCue_LeftToRight') & \\\n",
    "                          (fixations['off_screen'] == False) & \\\n",
    "                          (fixations['time_interval'] == 2)]\n",
    "\n",
    "onl_fix_final = fixations[(fixations['condition'] == 'Occlusion_NoCue_LeftToRight') & \\\n",
    "                          (fixations['off_screen'] == False) & \\\n",
    "                          (fixations['time_interval'] == 3)]"
   ]
  },
  {
   "cell_type": "code",
   "execution_count": null,
   "metadata": {
    "collapsed": true,
    "scrolled": false
   },
   "outputs": [],
   "source": [
    "# Fixations after the reach onset\n",
    "\n",
    "fig = plt.figure(figsize = [15, 10])\n",
    "\n",
    "ax1 = fig.add_subplot(211)\n",
    "ax1.plot(ocl_fix_reach['centre_x'], ocl_fix_reach['centre_z'], 'b.', alpha = 0.5)\n",
    "draw_cues(ax1, ybottom = 0.18, ytop = 0.48)\n",
    "ax1.set_xlim(0.34, 0.87)\n",
    "ax1.set_ylim(0.18, 0.48)\n",
    "\n",
    "ax2 = fig.add_subplot(212, sharex = ax1, sharey = ax1)\n",
    "ax2.plot(onl_fix_reach['centre_x'], onl_fix_reach['centre_z'], 'b.', alpha = 0.5)\n",
    "draw_cues(ax2, ybottom = 0.18, ytop = 0.48)\n",
    "\n",
    "plt.show()"
   ]
  },
  {
   "cell_type": "code",
   "execution_count": null,
   "metadata": {
    "collapsed": true
   },
   "outputs": [],
   "source": [
    "# Distribution relative to the cue\n",
    "\n",
    "x1 = ocl_fix_reach['distance_to']\n",
    "x2 = onl_fix_reach['distance_to']\n",
    "\n",
    "fig = plt.figure(figsize = [10, 10])\n",
    "ax1 = fig.add_subplot(211)\n",
    "ax1.hist(x1, bins = 10)\n",
    "ax2 = fig.add_subplot(212, sharey = ax1)\n",
    "ax2.hist(x2, bins = 10)\n",
    "plt.show()"
   ]
  },
  {
   "cell_type": "markdown",
   "metadata": {},
   "source": [
    "### Fixations' duration"
   ]
  },
  {
   "cell_type": "code",
   "execution_count": null,
   "metadata": {
    "collapsed": true
   },
   "outputs": [],
   "source": [
    "from matplotlib import cm\n",
    "\n",
    "fig = plt.figure(figsize = [15, 10])\n",
    "ax1 = fig.add_subplot(211)\n",
    "draw_cues(ax1, ybottom = 0.18, ytop = 0.48)\n",
    "ax1.scatter(ocl_fixations['centre_x'], ocl_fixations['centre_z'], c = ocl_fixations['duration'],\n",
    "            alpha = 0.5, cmap = cm.viridis_r, s = 20)\n",
    "ax1.set_title('cues')\n",
    "# ax1.set_xlim(0.5, 0.8)\n",
    "# ax1.set_ylim(0.3, 0.4)\n",
    "\n",
    "ax2 = fig.add_subplot(212)\n",
    "draw_cues(ax2, ybottom = 0.18, ytop = 0.48)\n",
    "ax2.scatter(onl_fixations['centre_x'], onl_fixations['centre_z'], c = onl_fixations['duration'],\n",
    "            alpha = 0.5, cmap = cm.viridis_r, s = 20)\n",
    "ax2.set_title('no cues')\n",
    "\n",
    "plt.show()"
   ]
  },
  {
   "cell_type": "code",
   "execution_count": null,
   "metadata": {
    "collapsed": true,
    "scrolled": false
   },
   "outputs": [],
   "source": [
    "# Linear model duration ~ distance for ocl\n",
    "\n",
    "from scipy.stats import linregress\n",
    "\n",
    "slope, intercept, r, p, stderr = linregress(abs(ocl_fixations['distance_to']), ocl_fixations['duration'])\n",
    "print 'r = {}\\np = {}'.format(round(r, 3), round(p, 3))\n",
    "y = slope * abs(ocl_fixations['distance_to']) + intercept\n",
    "\n",
    "plt.plot(abs(ocl_fixations['distance_to']), ocl_fixations['duration'], '.')\n",
    "plt.plot(abs(ocl_fixations['distance_to']), y, 'b-', linewidth = 0.5)\n",
    "plt.xlabel('distance from cue (m)')\n",
    "plt.ylabel('duration (s)')\n",
    "plt.show()"
   ]
  },
  {
   "cell_type": "code",
   "execution_count": null,
   "metadata": {
    "collapsed": true
   },
   "outputs": [],
   "source": [
    "# Distribution of fixations' duration\n",
    "\n",
    "plt.hist(ocl_fixations['duration'], bins = 30)\n",
    "plt.xlabel('ocl fixations duration (s)')\n",
    "plt.show()"
   ]
  },
  {
   "cell_type": "code",
   "execution_count": null,
   "metadata": {
    "collapsed": true
   },
   "outputs": [],
   "source": [
    "# Fixation duration against location on the x-axis\n",
    "\n",
    "fig = plt.figure(figsize = [15, 10])\n",
    "\n",
    "ax1 = fig.add_subplot(211)\n",
    "ax1.plot(ocl_fixations['centre_x'], ocl_fixations['duration'], '.', markersize = 10, alpha = 0.5)\n",
    "draw_cues(ax1, ybottom = 0, ytop = 1.4)\n",
    "ax1.set_ylabel('duration (s)')\n",
    "\n",
    "ax2 = fig.add_subplot(212, sharex = ax1, sharey = ax1)\n",
    "ax2.plot(onl_fixations['centre_x'], onl_fixations['duration'], '.', markersize = 10, alpha = 0.5)\n",
    "draw_cues(ax2, ybottom = 0, ytop = 1.4)\n",
    "ax2.set_xlabel('x location (m)')\n",
    "ax2.set_ylabel('duration (s)')\n",
    "\n",
    "plt.show()"
   ]
  },
  {
   "cell_type": "code",
   "execution_count": null,
   "metadata": {
    "collapsed": true
   },
   "outputs": [],
   "source": [
    "fig = plt.figure(figsize = [15, 10])\n",
    "\n",
    "ax1 = fig.add_subplot(211)\n",
    "ax1.scatter(ocl_fixations['centre_x'], ocl_fixations['duration'], c = ocl_fixations['start_frame'], cmap = cm.viridis)\n",
    "draw_cues(ax1, ybottom = 0, ytop = 1.4)\n",
    "ax1.set_ylabel('duration (s)')\n",
    "\n",
    "ax2 = fig.add_subplot(212, sharex = ax1, sharey = ax1)\n",
    "ax2.scatter(onl_fixations['centre_x'], onl_fixations['duration'], c = onl_fixations['start_frame'], cmap = cm.viridis)\n",
    "draw_cues(ax2, ybottom = 0, ytop = 1.4)\n",
    "ax2.set_xlabel('x location (m)')\n",
    "ax2.set_ylabel('duration (s)')\n",
    "\n",
    "plt.show()"
   ]
  },
  {
   "cell_type": "code",
   "execution_count": null,
   "metadata": {
    "collapsed": true
   },
   "outputs": [],
   "source": [
    "plt.plot(ocl_fixations['start_frame'], ocl_fixations['duration'], '.')\n",
    "plt.show()"
   ]
  },
  {
   "cell_type": "markdown",
   "metadata": {},
   "source": [
    "## Reaching movement"
   ]
  },
  {
   "cell_type": "code",
   "execution_count": null,
   "metadata": {
    "collapsed": true
   },
   "outputs": [],
   "source": [
    "def auc(x, y, z):\n",
    "    vel = np.sqrt(np.diff(x)**2 + np.diff(y)**2 + np.diff(z)**2) # in m/frame. divide by sampling freq to get m/s\n",
    "    d = sum(vel)\n",
    "    return d"
   ]
  },
  {
   "cell_type": "code",
   "execution_count": null,
   "metadata": {
    "collapsed": true
   },
   "outputs": [],
   "source": [
    "# Find the reach travel distance for wrist\n",
    "\n",
    "td = pd.DataFrame(columns = ['participant', 'condition', 'travel_distance'])\n",
    "\n",
    "for pid, subj in d.items():\n",
    "    for trial in subj['trials'].values():\n",
    "        \n",
    "        x = trial[markers[pid]['wrist'] + 'x']\n",
    "        y = trial[markers[pid]['wrist'] + 'y']\n",
    "        z = trial[markers[pid]['wrist'] + 'z']\n",
    "        \n",
    "        dist = auc(x, y, z)\n",
    "        cond = trial['name'][6:-4]\n",
    "        \n",
    "        to_add = pd.Series([pid, cond, dist], td.columns.values.tolist())\n",
    "        td = td.append(to_add, ignore_index = True)\n",
    "        \n",
    "td[:5]"
   ]
  },
  {
   "cell_type": "code",
   "execution_count": null,
   "metadata": {
    "collapsed": true
   },
   "outputs": [],
   "source": [
    "a = td.groupby(['participant', 'condition']).aggregate(np.mean).reset_index()\n",
    "b = a.pivot(index = 'participant', columns = 'condition', values = 'travel_distance')\n",
    "c = b.mean(axis = 0)\n",
    "# b.loc[:, ['Occlusion_Cue_LeftToRight', 'Visible_Cue_LeftToRight']].plot(kind = 'bar')\n",
    "c.plot(kind = 'bar',  yerr = b.std(axis = 0) / np.sqrt(len(b)))\n",
    "plt.ylabel('travel distance (m)')\n",
    "plt.show()"
   ]
  },
  {
   "cell_type": "code",
   "execution_count": null,
   "metadata": {
    "collapsed": true
   },
   "outputs": [],
   "source": [
    "# Reach trajectories on x-y axes for wrist\n",
    "\n",
    "fig = plt.figure(figsize = [15, 10])\n",
    "ax1 = fig.add_subplot(211)\n",
    "ax2 = fig.add_subplot(212)\n",
    "\n",
    "for pid, subj in d.items():\n",
    "    for trial in subj['trials'].values():\n",
    "        x = trial[markers[pid]['wrist'] + 'x']\n",
    "        y = trial[markers[pid]['wrist'] + 'y']\n",
    "        if 'Occlusion_Cue_LeftToRight' in trial['name'] or 'Occlusion_NoCue_LeftToRight' in trial['name']:\n",
    "            ax1.plot(x, y, color = 'b', alpha = 0.1)\n",
    "        elif 'Occlusion_Cue_RightToLeft' in trial['name'] or 'Occlusion_NoCue_RightToLeft' in trial['name']:\n",
    "            ax1.plot(x, y, color = 'r', alpha = 0.1)\n",
    "        elif 'Visible_Cue_LeftToRight' in trial['name'] or 'Visible_NoCue_LeftToRight' in trial['name']:\n",
    "            ax2.plot(x, y, color = 'b', alpha = 0.1)\n",
    "        elif 'Visible_Cue_RightToLeft' in trial['name'] or 'Visible_NoCue_RightToLeft' in trial['name']:\n",
    "            ax2.plot(x, y, color = 'r', alpha = 0.1)\n",
    "\n",
    "ax1.set_ylim(0, 0.5)\n",
    "ax2.set_ylim(0, 0.5)\n",
    "ax1.set_xlim(0.34, 0.87)\n",
    "ax2.set_xlim(0.34, 0.87)\n",
    "plt.show()"
   ]
  },
  {
   "cell_type": "code",
   "execution_count": null,
   "metadata": {
    "collapsed": true
   },
   "outputs": [],
   "source": [
    "# Reach trajectories on x-y axes for index\n",
    "\n",
    "fig = plt.figure(figsize = [15, 10])\n",
    "ax1 = fig.add_subplot(211)\n",
    "ax2 = fig.add_subplot(212)\n",
    "\n",
    "for pid, subj in d.items():\n",
    "    for trial in subj['trials'].values():\n",
    "        x = trial[markers[pid]['index'] + 'x']\n",
    "        y = trial[markers[pid]['index'] + 'y']\n",
    "        if 'Occlusion_Cue_LeftToRight' in trial['name'] or 'Occlusion_NoCue_LeftToRight' in trial['name']:\n",
    "            ax1.plot(x, y, color = 'b', alpha = 0.1)\n",
    "        elif 'Occlusion_Cue_RightToLeft' in trial['name'] or 'Occlusion_NoCue_RightToLeft' in trial['name']:\n",
    "            ax1.plot(x, y, color = 'r', alpha = 0.1)\n",
    "        elif 'Visible_Cue_LeftToRight' in trial['name'] or 'Visible_NoCue_LeftToRight' in trial['name']:\n",
    "            ax2.plot(x, y, color = 'b', alpha = 0.1)\n",
    "        elif 'Visible_Cue_RightToLeft' in trial['name'] or 'Visible_NoCue_RightToLeft' in trial['name']:\n",
    "            ax2.plot(x, y, color = 'r', alpha = 0.1)\n",
    "\n",
    "ax1.set_ylim(0, 0.56)\n",
    "ax2.set_ylim(0, 0.56)\n",
    "ax1.set_xlim(0.34, 0.87)\n",
    "ax2.set_xlim(0.34, 0.87)\n",
    "plt.show()"
   ]
  },
  {
   "cell_type": "markdown",
   "metadata": {
    "collapsed": true
   },
   "source": [
    "### *Deviations from a staight line*"
   ]
  },
  {
   "cell_type": "code",
   "execution_count": 3,
   "metadata": {},
   "outputs": [
    {
     "name": "stdout",
     "output_type": "stream",
     "text": [
      "done with P08\n",
      "done with P16\n",
      "done with P25\n",
      "done with P11\n",
      "done with P12\n",
      "done with P26\n",
      "done with P07\n",
      "done with P23\n",
      "done with P22\n",
      "done with P18\n",
      "done with P21\n",
      "done with P09\n",
      "done with P31\n",
      "done with P29\n",
      "done with P19\n",
      "done with P34\n"
     ]
    }
   ],
   "source": [
    "devdf = pd.DataFrame()\n",
    "\n",
    "for pid, p in d.items():\n",
    "    marker = markers[pid]['index']\n",
    "#     print pid, marker\n",
    "    \n",
    "    for tid, trial in p['trials'].items():\n",
    "        \n",
    "        cond = trial['name'][6:-4]\n",
    "        \n",
    "        sm = np.array(trial['startmovement'])\n",
    "        ro = np.where(sm == 1)[0][0]\n",
    "        \n",
    "        first = [ trial[marker + 'x'][ro], \n",
    "                  trial[marker + 'y'][ro],\n",
    "                  trial[marker + 'z'][ro] ]\n",
    "        \n",
    "        last = [ trial[marker + 'x'][-1], \n",
    "                 trial[marker + 'y'][-1],\n",
    "                 trial[marker + 'z'][-1] ]\n",
    "        \n",
    "        xs = []; ys = []; zs = []\n",
    "        deviations = []\n",
    "        \n",
    "        for i in range(ro, len(trial['index8x']), 1):\n",
    "            q = [trial[marker + 'x'][i],\n",
    "                 trial[marker + 'y'][i],\n",
    "                 trial[marker + 'z'][i]]\n",
    "            \n",
    "            (x, y, z), dev, linelength, _ = get_intercept(first, last, q)\n",
    "            \n",
    "            xs.append(x)\n",
    "            ys.append(y)\n",
    "            zs.append(z)\n",
    "            deviations.append(dev)\n",
    "        \n",
    "        area, avgheight = find_area([xs, ys, zs], deviations, linelength)\n",
    "        \n",
    "        to_add = pd.Series()\n",
    "        \n",
    "        to_add['p'] = pid\n",
    "        to_add['trial'] = tid\n",
    "        to_add['cond'] = cond\n",
    "        to_add['area'] = area\n",
    "        to_add['avgheight'] = avgheight\n",
    "        \n",
    "        devdf = devdf.append(to_add, ignore_index = True)\n",
    "    print 'done with {}'.format(pid)"
   ]
  },
  {
   "cell_type": "code",
   "execution_count": 4,
   "metadata": {},
   "outputs": [
    {
     "data": {
      "text/html": [
       "<div>\n",
       "<table border=\"1\" class=\"dataframe\">\n",
       "  <thead>\n",
       "    <tr style=\"text-align: right;\">\n",
       "      <th></th>\n",
       "      <th>p</th>\n",
       "      <th>cond</th>\n",
       "      <th>trial</th>\n",
       "      <th>area</th>\n",
       "      <th>avgheight</th>\n",
       "    </tr>\n",
       "  </thead>\n",
       "  <tbody>\n",
       "    <tr>\n",
       "      <th>0</th>\n",
       "      <td>P08</td>\n",
       "      <td>Visible_NoCue_RightToLeft</td>\n",
       "      <td>t48</td>\n",
       "      <td>0.008078</td>\n",
       "      <td>0.016124</td>\n",
       "    </tr>\n",
       "    <tr>\n",
       "      <th>1</th>\n",
       "      <td>P08</td>\n",
       "      <td>Visible_NoCue_RightToLeft</td>\n",
       "      <td>t43</td>\n",
       "      <td>0.009144</td>\n",
       "      <td>0.018297</td>\n",
       "    </tr>\n",
       "    <tr>\n",
       "      <th>2</th>\n",
       "      <td>P08</td>\n",
       "      <td>Visible_NoCue_LeftToRight</td>\n",
       "      <td>t42</td>\n",
       "      <td>0.008557</td>\n",
       "      <td>0.017411</td>\n",
       "    </tr>\n",
       "    <tr>\n",
       "      <th>3</th>\n",
       "      <td>P08</td>\n",
       "      <td>Visible_NoCue_LeftToRight</td>\n",
       "      <td>t41</td>\n",
       "      <td>0.006014</td>\n",
       "      <td>0.012177</td>\n",
       "    </tr>\n",
       "    <tr>\n",
       "      <th>4</th>\n",
       "      <td>P08</td>\n",
       "      <td>Visible_NoCue_LeftToRight</td>\n",
       "      <td>t40</td>\n",
       "      <td>0.006980</td>\n",
       "      <td>0.014187</td>\n",
       "    </tr>\n",
       "  </tbody>\n",
       "</table>\n",
       "</div>"
      ],
      "text/plain": [
       "     p                       cond trial      area  avgheight\n",
       "0  P08  Visible_NoCue_RightToLeft   t48  0.008078   0.016124\n",
       "1  P08  Visible_NoCue_RightToLeft   t43  0.009144   0.018297\n",
       "2  P08  Visible_NoCue_LeftToRight   t42  0.008557   0.017411\n",
       "3  P08  Visible_NoCue_LeftToRight   t41  0.006014   0.012177\n",
       "4  P08  Visible_NoCue_LeftToRight   t40  0.006980   0.014187"
      ]
     },
     "execution_count": 4,
     "metadata": {},
     "output_type": "execute_result"
    }
   ],
   "source": [
    "devdf = devdf[['p', 'cond', 'trial', 'area', 'avgheight']]\n",
    "devdf.head()"
   ]
  },
  {
   "cell_type": "code",
   "execution_count": 5,
   "metadata": {
    "collapsed": true
   },
   "outputs": [],
   "source": [
    "devanal = devdf.groupby(['p', 'cond']) \\\n",
    "               .aggregate(np.mean) \\\n",
    "               .reset_index() \\\n",
    "               .groupby('cond') \\\n",
    "               .aggregate([np.mean, std_error])"
   ]
  },
  {
   "cell_type": "code",
   "execution_count": 6,
   "metadata": {
    "collapsed": true
   },
   "outputs": [],
   "source": [
    "devdf.groupby(['p', 'cond']) \\\n",
    "     .aggregate(np.mean) \\\n",
    "     .reset_index() \\\n",
    "     .pivot(index = 'p', columns = 'cond',values = 'avgheight') \\\n",
    "     .to_csv('deviations_index_anova.csv')"
   ]
  },
  {
   "cell_type": "code",
   "execution_count": 7,
   "metadata": {},
   "outputs": [
    {
     "data": {
      "text/plain": [
       "<matplotlib.axes._subplots.AxesSubplot at 0x7f5aaeed2610>"
      ]
     },
     "execution_count": 7,
     "metadata": {},
     "output_type": "execute_result"
    },
    {
     "data": {
      "image/png": "[encoded data removed]",
      "text/plain": [
       "<matplotlib.figure.Figure at 0x7f5aaee3f7d0>"
      ]
     },
     "metadata": {
      "image/png": {
       "height": 391,
       "width": 381
      }
     },
     "output_type": "display_data"
    }
   ],
   "source": [
    "devanal['avgheight']['mean'].plot(kind = 'bar', yerr = devanal['avgheight']['std_error'])"
   ]
  },
  {
   "cell_type": "markdown",
   "metadata": {},
   "source": [
    "### *Eye-hand-target*"
   ]
  },
  {
   "cell_type": "code",
   "execution_count": 9,
   "metadata": {
    "collapsed": true
   },
   "outputs": [],
   "source": [
    "def get_distance(p1, p2):\n",
    "    p1 = np.array(p1); p2 = np.array(p2)\n",
    "    \n",
    "    dist = np.sqrt(sum((p2 - p1)**2))\n",
    "    return dist"
   ]
  },
  {
   "cell_type": "code",
   "execution_count": 24,
   "metadata": {},
   "outputs": [],
   "source": [
    "trial = d['P31']['trials']['t40']\n",
    "\n",
    "sm = np.array(trial['startmovement'])\n",
    "ro = np.where(sm == 1)[0][0]\n",
    "mark = markers['P11']['index']\n",
    "\n",
    "eye_hand = []\n",
    "eye_target = []\n",
    "hand_target = []\n",
    "\n",
    "for i in np.arange(ro, len(trial['index8x']), 1):\n",
    "    eye = [trial['averagexeye'][i],\n",
    "           trial['averageyeye'][i],\n",
    "           trial['averagezeye'][i]]\n",
    "    \n",
    "    hand = [trial[mark + 'x'][i],\n",
    "            trial[mark + 'y'][i],\n",
    "            trial[mark + 'z'][i]]\n",
    "    \n",
    "    target = [trial['objectx'][i],\n",
    "              trial['objecty'][i],\n",
    "              trial['objectz'][i]]\n",
    "    \n",
    "    eye_hand.append(get_distance(eye, hand))\n",
    "    eye_target.append(get_distance(eye, target))\n",
    "    hand_target.append(get_distance(hand, target))"
   ]
  },
  {
   "cell_type": "code",
   "execution_count": 25,
   "metadata": {},
   "outputs": [
    {
     "data": {
      "image/png": "[encoded data removed]",
      "text/plain": [
       "<matplotlib.figure.Figure at 0x7f9c5a6dddd0>"
      ]
     },
     "metadata": {
      "image/png": {
       "height": 265,
       "width": 370
      }
     },
     "output_type": "display_data"
    }
   ],
   "source": [
    "plt.plot(eye_hand, color = 'r', label = 'eye-hand')\n",
    "plt.plot(eye_target, color = 'b', label = 'eye-target')\n",
    "plt.plot(hand_target, color = 'g', label = 'hand-target')\n",
    "plt.legend()\n",
    "plt.title(trial['name'])\n",
    "plt.show()"
   ]
  },
  {
   "cell_type": "markdown",
   "metadata": {},
   "source": [
    "## Linear models: predicting the grasp/gaze accuracy"
   ]
  },
  {
   "cell_type": "code",
   "execution_count": null,
   "metadata": {
    "collapsed": true
   },
   "outputs": [],
   "source": [
    "# Get the index accuracy and mean distance of fixations table\n",
    "\n",
    "mean_fixations = fixations.groupby(['p', 'trial'])['distance_to'] \\\n",
    "                          .apply(lambda x: np.mean(np.abs(x))) \\\n",
    "                          .reset_index()\n",
    "        \n",
    "# mean_fixations = fixations.groupby(['p', 'trial'])['distance_to'] \\\n",
    "#                           .apply(lambda x: np.mean(x)) \\\n",
    "#                           .reset_index()"
   ]
  },
  {
   "cell_type": "code",
   "execution_count": null,
   "metadata": {
    "collapsed": true
   },
   "outputs": [],
   "source": [
    "common = pd.merge(mean_fixations, accuracies, on = ['p', 'trial'])\n",
    "display(common[:10])\n",
    "\n",
    "ocl = common[common['condition'] == 'Occlusion_Cue_LeftToRight']\n",
    "onl = common[common['condition'] == 'Occlusion_NoCue_LeftToRight']"
   ]
  },
  {
   "cell_type": "code",
   "execution_count": null,
   "metadata": {
    "collapsed": true
   },
   "outputs": [],
   "source": [
    "# Linear model grasp-obj distance ~ fixation-cue distance during pursuit\n",
    "\n",
    "slope, intercept, r, p, stderr = linregress(ocl['distance_to'], ocl['index_object'])\n",
    "print 'r = {}\\np = {}'.format(round(r, 2), round(p, 3))\n",
    "\n",
    "y = intercept + slope * ocl['distance_to']\n",
    "\n",
    "plt.plot(ocl['distance_to'], ocl['index_object'], '.')\n",
    "plt.plot(ocl['distance_to'], y, 'b-', linewidth = 0.5)\n",
    "plt.show()"
   ]
  },
  {
   "cell_type": "code",
   "execution_count": null,
   "metadata": {
    "collapsed": true,
    "scrolled": false
   },
   "outputs": [],
   "source": [
    "# Linear model gaze-obj distance at the reach onset ~ distance to cues during pursuit\n",
    "\n",
    "slope, intercept, r, p, stderr = linregress(ocl['distance_to'], ocl['eyes_object_ro'])\n",
    "print 'r = {}\\np = {}'.format(round(r, 2), round(p, 3))\n",
    "\n",
    "y = intercept + slope * ocl['distance_to']\n",
    "\n",
    "plt.plot(ocl['distance_to'], ocl['eyes_object_ro'], '.')\n",
    "plt.plot(ocl['distance_to'], y, 'b-', linewidth = 0.5)\n",
    "plt.show()"
   ]
  },
  {
   "cell_type": "markdown",
   "metadata": {},
   "source": [
    "## Root mean square error"
   ]
  },
  {
   "cell_type": "code",
   "execution_count": null,
   "metadata": {
    "collapsed": true
   },
   "outputs": [],
   "source": [
    "def rmse(error):\n",
    "    if not isinstance(error, np.ndarray):\n",
    "        error = np.array(error)\n",
    "    x = np.sqrt(np.mean(error**2))\n",
    "    return x"
   ]
  },
  {
   "cell_type": "code",
   "execution_count": null,
   "metadata": {
    "collapsed": true
   },
   "outputs": [],
   "source": [
    "rmse_data = pd.DataFrame()\n",
    "error_vectors = {}\n",
    "\n",
    "for pid, subj in d.items():\n",
    "    error_vectors[pid] = {}\n",
    "    for tid, trial in subj['trials'].items():\n",
    "        ro_frame = np.where(np.array(trial['startmovement']) == 1)[0][0]\n",
    "        error = np.array(trial['averagexeye'][496:ro_frame]) - np.array(trial['objectx'][496:ro_frame])\n",
    "        \n",
    "        error_vectors[pid][tid] = {}\n",
    "        error_vectors[pid][tid]['condition'] = trial['name'][6:-4]\n",
    "        error_vectors[pid][tid]['error'] = error\n",
    "        \n",
    "        to_add = pd.Series()\n",
    "        to_add['p'] = pid\n",
    "        to_add['trial'] = tid\n",
    "        to_add['condition'] = trial['name'][6:-4]\n",
    "        to_add['rmse'] = rmse(error)\n",
    "        \n",
    "        rmse_data = rmse_data.append(to_add, ignore_index = True)"
   ]
  },
  {
   "cell_type": "code",
   "execution_count": null,
   "metadata": {
    "collapsed": true
   },
   "outputs": [],
   "source": [
    "average_rmse = rmse_data.groupby(['p', 'condition'])['rmse'] \\\n",
    "                        .apply(np.mean) \\\n",
    "                        .reset_index() \\\n",
    "                        .pivot(index = 'p', columns = 'condition', values = 'rmse')\n",
    "average_rmse.apply(np.mean).plot(kind = 'bar', yerr = np.std(average_rmse) / np.sqrt(len(average_rmse)))\n",
    "plt.show()"
   ]
  },
  {
   "cell_type": "code",
   "execution_count": null,
   "metadata": {
    "collapsed": true
   },
   "outputs": [],
   "source": [
    "fig = plt.figure(figsize = [15,10])\n",
    "ax1 = fig.add_subplot(211)\n",
    "ax2 = fig.add_subplot(212)\n",
    "\n",
    "for p in error_vectors.values():\n",
    "    for t in p.values():\n",
    "        if 'Occlusion_Cue_LeftToRight' in t['condition']:\n",
    "            ax1.plot(t['error'], 'b-', alpha = 0.2, linewidth = 1)\n",
    "        elif 'Occlusion_NoCue_LeftToRight' in t['condition']:\n",
    "            ax2.plot(t['error'], 'b-', alpha = 0.2, linewidth = 1)\n",
    "\n",
    "plt.show()"
   ]
  },
  {
   "cell_type": "code",
   "execution_count": null,
   "metadata": {
    "collapsed": true
   },
   "outputs": [],
   "source": [
    "plt.plot(error_vectors['P12']['t16']['error'])\n",
    "plt.title(error_vectors['P12']['t16']['condition'])\n",
    "plt.axhline(0, color = 'k', linestyle = ':', linewidth = 1)\n",
    "plt.xlabel('time')\n",
    "plt.ylabel('distance to target')\n",
    "plt.show()"
   ]
  },
  {
   "cell_type": "code",
   "execution_count": null,
   "metadata": {
    "collapsed": true
   },
   "outputs": [],
   "source": []
  },
  {
   "cell_type": "markdown",
   "metadata": {},
   "source": [
    "## Saccades"
   ]
  },
  {
   "cell_type": "code",
   "execution_count": null,
   "metadata": {
    "collapsed": true
   },
   "outputs": [],
   "source": [
    "saccades = pd.DataFrame()\n",
    "\n",
    "for pid, subj in d.items():\n",
    "    for tid, trial in subj['trials'].items():\n",
    "                \n",
    "        to_add = pd.DataFrame()\n",
    "        \n",
    "        ro_frame = np.where(np.array(trial['startmovement']) == 1)[0][0]\n",
    "        \n",
    "        ti = [] # time interval\n",
    "        for frame in trial['fix']['start_frame'][1:]:\n",
    "            if frame < 495:\n",
    "                ti.append(0)\n",
    "            elif 495 <= frame < ro_frame:\n",
    "                ti.append(1)\n",
    "            elif frame >= ro_frame:\n",
    "                ti.append(2)\n",
    "        \n",
    "        to_add['ampl'] = np.absolute(np.diff(trial['fix']['centre_x']))\n",
    "        to_add['ro_frame'] = ro_frame\n",
    "        to_add['time_interval'] = ti\n",
    "        \n",
    "        to_add['p'] = pid\n",
    "        to_add['condition'] = trial['name'][6:-4]\n",
    "        to_add['trial'] = tid\n",
    "        \n",
    "        saccades = saccades.append(to_add, ignore_index = True)"
   ]
  },
  {
   "cell_type": "code",
   "execution_count": null,
   "metadata": {
    "collapsed": true,
    "scrolled": false
   },
   "outputs": [],
   "source": [
    "avgs = saccades[saccades.time_interval == 1] \\\n",
    "        .groupby(['p', 'condition'])['ampl'] \\\n",
    "        .apply(np.mean) \\\n",
    "        .reset_index() \\\n",
    "        .pivot(index = 'p', columns = 'condition', values = 'ampl')\n",
    "        \n",
    "avgs.apply(np.mean).plot(kind = 'bar', yerr = avgs.std() / np.sqrt(len(avgs)))\n",
    "plt.ylabel('saccade amplitude (cm)')\n",
    "plt.show()"
   ]
  },
  {
   "cell_type": "code",
   "execution_count": null,
   "metadata": {
    "collapsed": true
   },
   "outputs": [],
   "source": [
    "dur_avg = fixations[fixations.time_interval == 1] \\\n",
    "        .groupby(['p', 'condition'])['duration'] \\\n",
    "        .apply(np.mean) \\\n",
    "        .reset_index() \\\n",
    "        .pivot(index = 'p', columns = 'condition', values = 'duration')\n",
    "dur_avg.apply(np.mean).plot(kind = 'bar', yerr = dur_avg.std() / len(dur_avg))\n",
    "plt.ylabel('fixation duration (s)')\n",
    "plt.show()"
   ]
  },
  {
   "cell_type": "markdown",
   "metadata": {},
   "source": [
    "## Polar coordintaes"
   ]
  },
  {
   "cell_type": "code",
   "execution_count": null,
   "metadata": {
    "collapsed": true
   },
   "outputs": [],
   "source": [
    "def find_mag_ang(x, z):\n",
    "    '''Return magnitude (m) and angle (rad) given x and z displacements'''\n",
    "    \n",
    "    mag = np.sqrt(x**2 + z**2)\n",
    "    \n",
    "    if x > 0 and z > 0:\n",
    "        ang = np.arctan(z/x) #* 180/np.pi\n",
    "    elif x < 0 and z > 0:\n",
    "        ang = np.pi + np.arctan(z/x) #* 180/np.pi\n",
    "    elif x < 0 and z < 0:\n",
    "        ang = np.pi + np.arctan(z/x) #* 180/np.pi\n",
    "    elif x > 0 and z < 0:\n",
    "        ang = 2 * np.pi + np.arctan(z/x) #* 180/np.pi\n",
    "    \n",
    "    return(mag, ang)"
   ]
  },
  {
   "cell_type": "code",
   "execution_count": null,
   "metadata": {
    "collapsed": true
   },
   "outputs": [],
   "source": [
    "def angular_mean(angles):\n",
    "    \n",
    "    if type(angles) is not np.ndarray:\n",
    "        angles = np.array(angles)\n",
    "        \n",
    "    x = np.sum(np.cos(angles))\n",
    "    y = np.sum(np.sin(angles))\n",
    "    \n",
    "    ang_mean = np.arctan(y / x)\n",
    "    \n",
    "    if ang_mean < 0:\n",
    "        ang_mean += 2 * np.pi\n",
    "    \n",
    "    return ang_mean"
   ]
  },
  {
   "cell_type": "code",
   "execution_count": null,
   "metadata": {
    "collapsed": true
   },
   "outputs": [],
   "source": [
    "def ang_mean(angles):\n",
    "    \n",
    "    if type(angles) is not np.ndarray:\n",
    "        angles = np.array(angles)\n",
    "        \n",
    "    y = np.sum(np.sin(angles)) / len(angles)\n",
    "    x = np.sum(np.cos(angles)) / len(angles)\n",
    "        \n",
    "    if x > 0 and y > 0:\n",
    "        mean = np.arctan(y / x)\n",
    "    elif x < 0:\n",
    "        mean = np.arctan(y / x) + np.pi\n",
    "    elif y < 0 and x > 0:\n",
    "        mean = np.arctan(y / x) + 2 * np.pi\n",
    "    \n",
    "    return mean"
   ]
  },
  {
   "cell_type": "code",
   "execution_count": null,
   "metadata": {
    "collapsed": true
   },
   "outputs": [],
   "source": [
    "def ang_std(angles):\n",
    "    \n",
    "    if type(angles) is not np.ndarray:\n",
    "        angles = np.array(angles)\n",
    "        \n",
    "    y = sum(np.sin(angles)) / len(angles)\n",
    "    x = sum(np.cos(angles)) / len(angles)\n",
    "    \n",
    "    r = np.sqrt(x**2 + y**2)\n",
    "    s = np.sqrt(-2 * np.log(r))\n",
    "    \n",
    "    return s"
   ]
  },
  {
   "cell_type": "code",
   "execution_count": null,
   "metadata": {
    "collapsed": true
   },
   "outputs": [],
   "source": [
    "polar_accuracies = pd.DataFrame()\n",
    "\n",
    "for pid, subj in d.items():\n",
    "    for tid, trial in subj['trials'].items():\n",
    "        acc_x = trial[markers[pid]['index'] + 'x'][-1] - trial['objectx'][-1]\n",
    "        acc_z = trial[markers[pid]['index'] + 'z'][-1] - (trial['objectz'][-1] + 0.02)\n",
    "        \n",
    "        mag, ang = find_mag_ang(acc_x, acc_z)\n",
    "        \n",
    "        condition = trial['name'][6:-4]\n",
    "        \n",
    "        to_add = pd.Series()\n",
    "        to_add['p'] = pid\n",
    "        to_add['trial'] = tid\n",
    "        to_add['condition'] = condition\n",
    "        to_add['mag'] = mag\n",
    "        to_add['ang'] = ang\n",
    "        \n",
    "        polar_accuracies = polar_accuracies.append(to_add, ignore_index = True)\n",
    "\n",
    "polar_accuracies = polar_accuracies[['p', 'condition', 'trial', 'mag', 'ang']]"
   ]
  },
  {
   "cell_type": "code",
   "execution_count": null,
   "metadata": {
    "collapsed": true
   },
   "outputs": [],
   "source": [
    "polar_accuracies.head()"
   ]
  },
  {
   "cell_type": "code",
   "execution_count": null,
   "metadata": {
    "collapsed": true
   },
   "outputs": [],
   "source": [
    "polar_avgs = polar_accuracies.groupby(['p', 'condition']) \\\n",
    "                             .aggregate({'mag': np.mean, 'ang': ang_mean}) \\\n",
    "                             .reset_index() \\\n",
    "                             .groupby('condition') \\\n",
    "                             .aggregate({'mag': [np.mean, np.std], 'ang': [ang_mean, ang_std]}) \\\n",
    "                             .reset_index(level = 'condition')\n",
    "polar_avgs"
   ]
  },
  {
   "cell_type": "code",
   "execution_count": null,
   "metadata": {
    "collapsed": true
   },
   "outputs": [],
   "source": [
    "polar_avgs_occ = polar_avgs[polar_avgs['condition'].str.contains('Occlusion')]\n",
    "polar_avgs_occ"
   ]
  },
  {
   "cell_type": "code",
   "execution_count": null,
   "metadata": {
    "collapsed": true,
    "scrolled": false
   },
   "outputs": [],
   "source": [
    "fig = plt.figure(figsize = [8, 8])\n",
    "ax = fig.add_subplot(111, projection = 'polar')\n",
    "\n",
    "bars = ax.bar(polar_avgs_occ['ang']['ang_mean'].as_matrix(), polar_avgs_occ['mag']['mean'].as_matrix(), \n",
    "              width = polar_avgs_occ['ang']['ang_std'].as_matrix(), \n",
    "              yerr = polar_avgs_occ['mag']['std'].as_matrix(), \n",
    "              alpha = 0.6, color = ['r', 'b', 'g', 'y'])\n",
    "\n",
    "# q = polar_accuracies[polar_accuracies['condition'] == 'Occlusion_Cue_LeftToRight']\n",
    "# ax.plot(q['ang'], q['mag'], 'r.', alpha = 0.5)\n",
    "# q = polar_accuracies[polar_accuracies['condition'] == 'Occlusion_Cue_RightToLeft']\n",
    "# ax.plot(q['ang'], q['mag'], 'b.', alpha = 0.5)\n",
    "# q = polar_accuracies[polar_accuracies['condition'] == 'Occlusion_NoCue_LeftToRight']\n",
    "# ax.plot(q['ang'], q['mag'], 'g.', alpha = 0.5)\n",
    "# q = polar_accuracies[polar_accuracies['condition'] == 'Occlusion_NoCue_RightToLeft']\n",
    "# ax.plot(q['ang'], q['mag'], 'y.', alpha = 0.5)\n",
    "\n",
    "circle = plt.Circle((0, 0), 0.02, transform=ax.transData._b, color = 'k', fill = False, linewidth = 2)\n",
    "ax.add_artist(circle)\n",
    "\n",
    "ax.set_rlabel_position(175)\n",
    "ax.legend(bars, ['Cue Rightward', 'Cue Leftward', 'No cue Rightward',\n",
    "                 'No cue Leftward'], bbox_to_anchor = (1.35, 1))\n",
    "ax.set_title('Occlusion')\n",
    "\n",
    "plt.show()"
   ]
  },
  {
   "cell_type": "code",
   "execution_count": null,
   "metadata": {
    "collapsed": true
   },
   "outputs": [],
   "source": [
    "polar_avgs_vis = polar_avgs[polar_avgs['condition'].str.contains('Visible')]"
   ]
  },
  {
   "cell_type": "code",
   "execution_count": null,
   "metadata": {
    "collapsed": true
   },
   "outputs": [],
   "source": [
    "fig = plt.figure(figsize = [8, 8])\n",
    "ax = fig.add_subplot(111, projection = 'polar')\n",
    "\n",
    "bars = ax.bar(polar_avgs_vis['ang']['ang_mean'].as_matrix(), polar_avgs_vis['mag']['mean'].as_matrix(), \n",
    "              width = polar_avgs_vis['ang']['ang_std'].as_matrix(), \n",
    "              yerr = polar_avgs_vis['mag']['std'].as_matrix(), \n",
    "              alpha = 0.6, color = ['r', 'b', 'g', 'y'])\n",
    "\n",
    "circle = plt.Circle((0, 0), 0.02, transform=ax.transData._b, color = 'k', fill = False, linewidth = 2)\n",
    "ax.add_artist(circle)\n",
    "\n",
    "ax.set_rlabel_position(135)\n",
    "ax.legend(bars, ['Cue Left to Right', 'Cue Right to Left', 'No cue Left to Right',\n",
    "                 'No cue Right to Left'], bbox_to_anchor = (1.35, 1))\n",
    "ax.set_title('Visible')\n",
    "\n",
    "plt.show()"
   ]
  }
 ],
 "metadata": {
  "kernelspec": {
   "display_name": "Python 2",
   "language": "python",
   "name": "python2"
  },
  "language_info": {
   "codemirror_mode": {
    "name": "ipython",
    "version": 2
   },
   "file_extension": ".py",
   "mimetype": "text/x-python",
   "name": "python",
   "nbconvert_exporter": "python",
   "pygments_lexer": "ipython2",
   "version": "2.7.13"
  }
 },
 "nbformat": 4,
 "nbformat_minor": 2
}
