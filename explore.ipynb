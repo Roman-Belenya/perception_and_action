{
 "cells": [
  {
   "cell_type": "markdown",
   "metadata": {
    "collapsed": true
   },
   "source": [
    "# Results 5 June"
   ]
  },
  {
   "cell_type": "code",
   "execution_count": null,
   "metadata": {
    "collapsed": true
   },
   "outputs": [],
   "source": [
    "from tools import *\n",
    "import pandas as pd\n",
    "import seaborn as sns\n",
    "from matplotlib import cm\n",
    "from scipy.stats import ks_2samp\n",
    "from IPython.display import display\n",
    "style.use('ggplot')\n",
    "d = manual_load_data('clean_data.pkl')\n",
    "%config InlineBackend.figure_format = 'retina'"
   ]
  },
  {
   "cell_type": "code",
   "execution_count": null,
   "metadata": {},
   "outputs": [],
   "source": [
    "markers = {}\n",
    "markers['P07'] = {'index': 'index8', 'thumb': 'thumb9', 'wrist': 'wrist11'}\n",
    "markers['P08'] = {'index': 'index8', 'thumb': 'thumb9', 'wrist': 'wrist11'}\n",
    "markers['P09'] = {'index': 'index7', 'thumb': 'thumb9', 'wrist': 'wrist11'}\n",
    "markers['P11'] = {'index': 'index8', 'thumb': 'thumb9', 'wrist': 'wrist11'}\n",
    "markers['P12'] = {'index': 'index8', 'thumb': 'thumb9', 'wrist': 'wrist11'}\n",
    "markers['P16'] = {'index': 'index8', 'thumb': 'thumb9', 'wrist': 'wrist12'}\n",
    "markers['P18'] = {'index': 'index8', 'thumb': 'thumb9', 'wrist': 'wrist11'}\n",
    "markers['P19'] = {'index': 'index8', 'thumb': 'thumb9', 'wrist': 'wrist11'}\n",
    "\n",
    "pd.DataFrame(markers)"
   ]
  },
  {
   "cell_type": "markdown",
   "metadata": {},
   "source": [
    "## Distance to object's centre for index & gaze"
   ]
  },
  {
   "cell_type": "code",
   "execution_count": null,
   "metadata": {
    "collapsed": true
   },
   "outputs": [],
   "source": [
    "long_table = pd.DataFrame(columns = ['p', 'condition', 'trial', 'indx-obj', 'gaze-obj'])\n",
    "\n",
    "for pid, subj in d.items():\n",
    "    indx = markers[pid]['index'] + 'x'\n",
    "    for tid, trial in subj['trials'].items():\n",
    "        \n",
    "        x1 = trial[indx][-1] - trial['objectx'][-1]\n",
    "        x2 = trial['averagexeye'][-1] - trial['objectx'][-1]\n",
    "        \n",
    "        if 'RightToLeft' in trial['name']:\n",
    "            x1 *= -1\n",
    "            x2 *= -1\n",
    "            \n",
    "        cond = trial['name'][6:-4]\n",
    "        \n",
    "        to_add = pd.Series([pid, cond, tid, x1, x2], long_table.columns.values.tolist())\n",
    "        long_table = long_table.append(to_add, ignore_index = True)"
   ]
  },
  {
   "cell_type": "code",
   "execution_count": null,
   "metadata": {},
   "outputs": [],
   "source": [
    "long_table[:20]"
   ]
  },
  {
   "cell_type": "code",
   "execution_count": null,
   "metadata": {},
   "outputs": [],
   "source": [
    "inter1 = long_table.groupby(['participant', 'condition']).aggregate(np.mean)\n",
    "inter2 = inter1.reset_index(level = ['condition'])\n",
    "meanPerCondition = inter2.groupby('condition').aggregate(np.mean)\n",
    "\n",
    "meanPerCondition"
   ]
  },
  {
   "cell_type": "code",
   "execution_count": null,
   "metadata": {
    "collapsed": true
   },
   "outputs": [],
   "source": [
    "inter3 = inter1.reset_index(level = ['participant', 'condition'])\n",
    "anovaTable = inter3.pivot(index = 'participant', columns = 'condition', values = 'indx-obj')"
   ]
  },
  {
   "cell_type": "markdown",
   "metadata": {},
   "source": [
    "### Accuracy per condition"
   ]
  },
  {
   "cell_type": "code",
   "execution_count": null,
   "metadata": {},
   "outputs": [],
   "source": [
    "anovaTable.mean(axis = 0).plot(kind = 'bar', yerr = anovaTable.std(axis = 0) / np.sqrt(len(anovaTable)))\n",
    "plt.show()"
   ]
  },
  {
   "cell_type": "markdown",
   "metadata": {},
   "source": [
    "### Accuracy per participant"
   ]
  },
  {
   "cell_type": "code",
   "execution_count": null,
   "metadata": {},
   "outputs": [],
   "source": [
    "anovaTable.mean(axis = 1).plot(kind = 'bar', yerr = anovaTable.std(axis = 1) / np.sqrt(len(anovaTable.columns)))\n",
    "plt.show()"
   ]
  },
  {
   "cell_type": "markdown",
   "metadata": {},
   "source": [
    "## Fixations"
   ]
  },
  {
   "cell_type": "code",
   "execution_count": null,
   "metadata": {},
   "outputs": [],
   "source": [
    "cues = [0.353 + n * 0.072 for n in range(8)]\n",
    "print cues"
   ]
  },
  {
   "cell_type": "code",
   "execution_count": null,
   "metadata": {},
   "outputs": [],
   "source": [
    "# Create a common fixations table\n",
    "\n",
    "fixations = pd.DataFrame()\n",
    "\n",
    "for pid, subj in d.items():\n",
    "    \n",
    "    index_x = markers[pid]['index'] + 'x'\n",
    "\n",
    "    for tid, trial in subj['trials'].items():\n",
    "        \n",
    "        to_add = pd.DataFrame(trial['fix'])\n",
    "        \n",
    "        # identify the reach onset frame\n",
    "        sm = trial['startmovement']\n",
    "        ro_frame = np.where(np.array(sm) == 1)[0][0]\n",
    "                \n",
    "        # find the eye and index to object distances\n",
    "        index_object = trial[index_x][-1] - trial['objectx'][-1]\n",
    "        eyes_object_final = to_add.iloc[-1]['centre_x'] - trial['objectx'][-1] # final fixation in a trial\n",
    "        \n",
    "        ro_fix = to_add[(to_add['start_frame'] <= ro_frame) & (to_add['end_frame'] >= ro_frame)]\n",
    "        if not ro_fix['centre_x'].any():\n",
    "            ro_fix = to_add[to_add['start_frame'] >= ro_frame].iloc[0]\n",
    "            \n",
    "        eyes_object_ro = ro_fix['centre_x'] - trial['objectx'][ro_frame]\n",
    "        \n",
    "        if 'RightToLeft' in trial['name']:\n",
    "            index_object *= -1\n",
    "            eyes_object_final *= -1\n",
    "            eyes_object_ro *= -1\n",
    "        \n",
    "        # identify the last fixation in a trial (or just the last row)\n",
    "        to_add['time_interval'] = None\n",
    "        to_add.loc[to_add.index[-1], 'time_interval'] = 3\n",
    "        \n",
    "        # add the data\n",
    "        to_add['p'] = pid\n",
    "        to_add['condition'] = trial['name'][6:-4]\n",
    "        to_add['trial'] = tid\n",
    "        to_add['ro_frame'] = ro_frame\n",
    "        to_add['index_object'] = index_object\n",
    "        to_add['eyes_object_final'] = eyes_object_final\n",
    "        to_add['eyes_object_ro'] = eyes_object_ro\n",
    "        \n",
    "        # remove the dispersion column\n",
    "        to_add.drop('dispersion', axis = 1, inplace = True)\n",
    " \n",
    "        fixations = fixations.append(to_add, ignore_index = True)\n",
    "        \n",
    "# fixations = fixations[['p', 'condition', 'trial', 'centre_x', 'centre_z', 'duration', 'start_frame', 'end_frame',\n",
    "#                        'ro_frame', 'time_interval']]\n"
   ]
  },
  {
   "cell_type": "code",
   "execution_count": null,
   "metadata": {},
   "outputs": [],
   "source": [
    "fixations[:10]"
   ]
  },
  {
   "cell_type": "code",
   "execution_count": null,
   "metadata": {
    "collapsed": true
   },
   "outputs": [],
   "source": [
    "# Determine the time interval \n",
    "# 0 = before occlusion. frames 0-495\n",
    "# 1 = visual pursuit. frames 496 - reach onset\n",
    "# 2 = reach onset - time of contact-1\n",
    "# 3 = time of contact\n",
    "\n",
    "time_interval = []\n",
    "\n",
    "for index, row in fixations.iterrows():\n",
    "    if row['time_interval'] == 3:\n",
    "        time_interval.append(3)\n",
    "        continue\n",
    "    elif row['start_frame'] <= 495:\n",
    "        time_interval.append(0)\n",
    "    elif 495 < row['start_frame'] < row['ro_frame']:\n",
    "        time_interval.append(1)\n",
    "    elif row['start_frame'] >= row['ro_frame']:\n",
    "        time_interval.append(2)\n",
    "\n",
    "fixations['time_interval'] = time_interval"
   ]
  },
  {
   "cell_type": "code",
   "execution_count": null,
   "metadata": {},
   "outputs": [],
   "source": [
    "# Detect the off-screen outliers\n",
    "\n",
    "fixations['off_screen'] = (fixations.centre_x < 0.34) | (fixations.centre_x > 0.87) | \\\n",
    "    (fixations.centre_z < 0.18) | (fixations.centre_z > 0.48)\n",
    "    \n",
    "fixations['off_screen'].value_counts()"
   ]
  },
  {
   "cell_type": "code",
   "execution_count": null,
   "metadata": {},
   "outputs": [],
   "source": [
    "# Find the distances between fixations and the closest cue\n",
    "\n",
    "closest_cue = []\n",
    "distance = []\n",
    "\n",
    "for index, row in fixations.iterrows():\n",
    "    dist = [row['centre_x'] - cue for cue in cues]\n",
    "    ind, = np.where(np.abs(dist) == min(np.abs(dist)))\n",
    "    closest_cue.append(ind[0])\n",
    "    distance.append(dist[ind[0]])\n",
    "    \n",
    "fixations['closest_cue'] = closest_cue\n",
    "fixations['distance_to'] = distance\n",
    "\n",
    "fixations[:5]"
   ]
  },
  {
   "cell_type": "code",
   "execution_count": null,
   "metadata": {},
   "outputs": [],
   "source": [
    "# Number of fixations per closest cue\n",
    "\n",
    "fixations['closest_cue'].value_counts(sort = False).plot(kind = 'bar')\n",
    "plt.show()"
   ]
  },
  {
   "cell_type": "code",
   "execution_count": null,
   "metadata": {},
   "outputs": [],
   "source": [
    "# Number of fixations in the time intervals\n",
    "\n",
    "fixations['time_interval'].value_counts(sort = False).plot(kind = 'bar')\n",
    "plt.show()"
   ]
  },
  {
   "cell_type": "markdown",
   "metadata": {},
   "source": [
    "### Fixations' location during visual pursuit"
   ]
  },
  {
   "cell_type": "code",
   "execution_count": null,
   "metadata": {
    "collapsed": true
   },
   "outputs": [],
   "source": [
    "# Fixations for occlusion, cue vs no cue, left to right\n",
    "\n",
    "\n",
    "ocl_fixations = fixations[(fixations['condition'] == 'Occlusion_Cue_LeftToRight') & \\\n",
    "                          (fixations['off_screen'] == False) & \\\n",
    "                          (fixations['time_interval'] == 1)]\n",
    "\n",
    "\n",
    "onl_fixations = fixations[(fixations['condition'] == 'Occlusion_NoCue_LeftToRight') & \\\n",
    "                          (fixations['off_screen'] == False) & \\\n",
    "                          (fixations['time_interval'] == 1)]\n"
   ]
  },
  {
   "cell_type": "code",
   "execution_count": null,
   "metadata": {},
   "outputs": [],
   "source": [
    "fig = plt.figure(figsize = [15, 10])\n",
    "ax1 = fig.add_subplot(211)\n",
    "draw_cues(ax1, ybottom = 0.18, ytop = 0.48)\n",
    "ax1.plot(ocl_fixations['centre_x'], ocl_fixations['centre_z'], 'b.', alpha = 0.3, markersize = 10)\n",
    "ax1.set_title('cues')\n",
    "\n",
    "ax2 = fig.add_subplot(212)\n",
    "draw_cues(ax2, ybottom = 0.18, ytop = 0.48)\n",
    "ax2.plot(onl_fixations['centre_x'], onl_fixations['centre_z'], 'b.', alpha = 0.3, markersize = 10)\n",
    "ax2.set_title('no cues')\n",
    "\n",
    "plt.show()\n"
   ]
  },
  {
   "cell_type": "code",
   "execution_count": null,
   "metadata": {},
   "outputs": [],
   "source": [
    "fig = plt.figure(figsize = [10, 10])\n",
    "ax1 = fig.add_subplot(211)\n",
    "ax1.hist(ocl_fixations['centre_x'], bins = 50)\n",
    "draw_cues(ax1)\n",
    "\n",
    "ax2 = fig.add_subplot(212, sharex = ax1)\n",
    "ax2.hist(onl_fixations['centre_x'], bins = 50)\n",
    "draw_cues(ax2)\n",
    "\n",
    "plt.show()"
   ]
  },
  {
   "cell_type": "code",
   "execution_count": null,
   "metadata": {},
   "outputs": [],
   "source": [
    "# Overlay the cues & plot the closest fixations. 0 = cue position\n",
    "\n",
    "x1 = ocl_fixations['distance_to']\n",
    "x2 = onl_fixations['distance_to']\n",
    "\n",
    "fig = plt.figure(figsize = [10, 10])\n",
    "ax1 = fig.add_subplot(211)\n",
    "ax1.hist(x1, bins = 30)\n",
    "ax2 = fig.add_subplot(212, sharey = ax1)\n",
    "ax2.hist(x2, bins = 30)\n",
    "plt.show()"
   ]
  },
  {
   "cell_type": "code",
   "execution_count": null,
   "metadata": {},
   "outputs": [],
   "source": [
    "\n",
    "for subj in d.values():\n",
    "    for trial in subj['trials'].values():\n",
    "        if 'Occlusion_Cue_LeftToRight' in trial['name']:\n",
    "            plt.plot(trial['fix']['centre_x'], trial['fix']['centre_z'], 'b-', alpha = 0.1, linewidth = 1)\n",
    "            plt.plot(trial['fix']['centre_x'][-1], trial['fix']['centre_z'][-1], 'r.')\n",
    "\n",
    "draw_cues(plt.gca(), ybottom = 0.18, ytop = 0.48)\n",
    "plt.ylim(0.18, 0.47)\n",
    "plt.show()"
   ]
  },
  {
   "cell_type": "code",
   "execution_count": null,
   "metadata": {},
   "outputs": [],
   "source": [
    "# Kolmogorov-Smirnov two-sample test for ocl vs onl\n",
    "\n",
    "res = ks_2samp(x1, x2)\n",
    "print 'ks = {}\\np = {}'.format(round(res[0], 4), round(res[1], 4))"
   ]
  },
  {
   "cell_type": "markdown",
   "metadata": {},
   "source": [
    "### Fixations' location during reach"
   ]
  },
  {
   "cell_type": "code",
   "execution_count": null,
   "metadata": {
    "collapsed": true
   },
   "outputs": [],
   "source": [
    "ocl_fix_reach = fixations[(fixations['condition'] == 'Occlusion_Cue_LeftToRight') & \\\n",
    "                          (fixations['off_screen'] == False) & \\\n",
    "                          (fixations['time_interval'] == 2)]\n",
    "\n",
    "ocl_fix_final = fixations[(fixations['condition'] == 'Occlusion_Cue_LeftToRight') & \\\n",
    "                          (fixations['off_screen'] == False) & \\\n",
    "                          (fixations['time_interval'] == 3)]\n",
    "\n",
    "\n",
    "onl_fix_reach = fixations[(fixations['condition'] == 'Occlusion_NoCue_LeftToRight') & \\\n",
    "                          (fixations['off_screen'] == False) & \\\n",
    "                          (fixations['time_interval'] == 2)]\n",
    "\n",
    "onl_fix_final = fixations[(fixations['condition'] == 'Occlusion_NoCue_LeftToRight') & \\\n",
    "                          (fixations['off_screen'] == False) & \\\n",
    "                          (fixations['time_interval'] == 3)]"
   ]
  },
  {
   "cell_type": "code",
   "execution_count": null,
   "metadata": {},
   "outputs": [],
   "source": [
    "# Fixations after the reach onset\n",
    "\n",
    "fig = plt.figure(figsize = [15, 10])\n",
    "\n",
    "ax1 = fig.add_subplot(211)\n",
    "ax1.plot(ocl_fix_reach['centre_x'], ocl_fix_reach['centre_z'], 'b.', alpha = 0.5)\n",
    "draw_cues(ax1, ybottom = 0.18, ytop = 0.48)\n",
    "ax1.set_xlim(0.34, 0.87)\n",
    "ax1.set_ylim(0.18, 0.48)\n",
    "\n",
    "ax2 = fig.add_subplot(212, sharex = ax1, sharey = ax1)\n",
    "ax2.plot(onl_fix_reach['centre_x'], onl_fix_reach['centre_z'], 'b.', alpha = 0.5)\n",
    "draw_cues(ax2, ybottom = 0.18, ytop = 0.48)\n",
    "\n",
    "plt.show()"
   ]
  },
  {
   "cell_type": "code",
   "execution_count": null,
   "metadata": {},
   "outputs": [],
   "source": [
    "# Distribution relative to the cue\n",
    "\n",
    "x1 = ocl_fix_reach['distance_to']\n",
    "x2 = onl_fix_reach['distance_to']\n",
    "\n",
    "fig = plt.figure(figsize = [10, 10])\n",
    "ax1 = fig.add_subplot(211)\n",
    "ax1.hist(x1, bins = 10)\n",
    "ax2 = fig.add_subplot(212, sharey = ax1)\n",
    "ax2.hist(x2, bins = 10)\n",
    "plt.show()"
   ]
  },
  {
   "cell_type": "markdown",
   "metadata": {},
   "source": [
    "### -------------------- Fixations' duration --------------------"
   ]
  },
  {
   "cell_type": "code",
   "execution_count": null,
   "metadata": {},
   "outputs": [],
   "source": [
    "from matplotlib import cm\n",
    "\n",
    "fig = plt.figure(figsize = [15, 10])\n",
    "ax1 = fig.add_subplot(211)\n",
    "draw_cues(ax1, ybottom = 0.18, ytop = 0.48)\n",
    "ax1.scatter(ocl_fixations['centre_x'], ocl_fixations['centre_z'], c = ocl_fixations['duration'],\n",
    "            alpha = 0.5, cmap = cm.viridis_r, s = 20)\n",
    "ax1.set_title('cues')\n",
    "# ax1.set_xlim(0.5, 0.8)\n",
    "# ax1.set_ylim(0.3, 0.4)\n",
    "\n",
    "ax2 = fig.add_subplot(212)\n",
    "draw_cues(ax2, ybottom = 0.18, ytop = 0.48)\n",
    "ax2.scatter(onl_fixations['centre_x'], onl_fixations['centre_z'], c = onl_fixations['duration'],\n",
    "            alpha = 0.5, cmap = cm.viridis_r, s = 20)\n",
    "ax2.set_title('no cues')\n",
    "\n",
    "plt.show()"
   ]
  },
  {
   "cell_type": "code",
   "execution_count": null,
   "metadata": {
    "scrolled": true
   },
   "outputs": [],
   "source": [
    "# Linear model duration ~ distance for ocl\n",
    "\n",
    "from scipy.stats import linregress\n",
    "\n",
    "slope, intercept, r, p, stderr = linregress(abs(ocl_fixations['distance_to']), ocl_fixations['duration'])\n",
    "print 'r = {}\\np = {}'.format(round(r, 3), round(p, 3))\n",
    "y = slope * abs(ocl_fixations['distance_to']) + intercept\n",
    "\n",
    "plt.plot(abs(ocl_fixations['distance_to']), ocl_fixations['duration'], '.')\n",
    "plt.plot(abs(ocl_fixations['distance_to']), y, 'b-', linewidth = 0.5)\n",
    "plt.xlabel('distance from cue (m)')\n",
    "plt.ylabel('duration (s)')\n",
    "plt.show()"
   ]
  },
  {
   "cell_type": "code",
   "execution_count": null,
   "metadata": {},
   "outputs": [],
   "source": [
    "# Distribution of fixations' duration\n",
    "\n",
    "plt.hist(ocl_fixations['duration'], bins = 30)\n",
    "plt.xlabel('ocl fixations duration (s)')\n",
    "plt.show()"
   ]
  },
  {
   "cell_type": "code",
   "execution_count": null,
   "metadata": {},
   "outputs": [],
   "source": [
    "# Fixation duration against location on the x-axis\n",
    "\n",
    "fig = plt.figure(figsize = [15, 10])\n",
    "\n",
    "ax1 = fig.add_subplot(211)\n",
    "ax1.plot(ocl_fixations['centre_x'], ocl_fixations['duration'], '.', markersize = 10, alpha = 0.5)\n",
    "draw_cues(ax1, ybottom = 0, ytop = 1.4)\n",
    "ax1.set_ylabel('duration (s)')\n",
    "\n",
    "ax2 = fig.add_subplot(212, sharex = ax1, sharey = ax1)\n",
    "ax2.plot(onl_fixations['centre_x'], onl_fixations['duration'], '.', markersize = 10, alpha = 0.5)\n",
    "draw_cues(ax2, ybottom = 0, ytop = 1.4)\n",
    "ax2.set_xlabel('x location (m)')\n",
    "ax2.set_ylabel('duration (s)')\n",
    "\n",
    "plt.show()"
   ]
  },
  {
   "cell_type": "code",
   "execution_count": null,
   "metadata": {},
   "outputs": [],
   "source": [
    "fig = plt.figure(figsize = [15, 10])\n",
    "\n",
    "ax1 = fig.add_subplot(211)\n",
    "ax1.scatter(ocl_fixations['centre_x'], ocl_fixations['duration'], c = ocl_fixations['start_frame'], cmap = cm.viridis)\n",
    "draw_cues(ax1, ybottom = 0, ytop = 1.4)\n",
    "ax1.set_ylabel('duration (s)')\n",
    "\n",
    "ax2 = fig.add_subplot(212, sharex = ax1, sharey = ax1)\n",
    "ax2.scatter(onl_fixations['centre_x'], onl_fixations['duration'], c = onl_fixations['start_frame'], cmap = cm.viridis)\n",
    "draw_cues(ax2, ybottom = 0, ytop = 1.4)\n",
    "ax2.set_xlabel('x location (m)')\n",
    "ax2.set_ylabel('duration (s)')\n",
    "\n",
    "plt.show()"
   ]
  },
  {
   "cell_type": "code",
   "execution_count": null,
   "metadata": {},
   "outputs": [],
   "source": [
    "plt.plot(ocl_fixations['start_frame'], ocl_fixations['duration'], '.')\n",
    "plt.show()"
   ]
  },
  {
   "cell_type": "markdown",
   "metadata": {},
   "source": [
    "## Reaching movement"
   ]
  },
  {
   "cell_type": "code",
   "execution_count": null,
   "metadata": {
    "collapsed": true
   },
   "outputs": [],
   "source": [
    "def auc(x, y, z):\n",
    "    vel = np.sqrt(np.diff(x)**2 + np.diff(y)**2 + np.diff(z)**2) # in m/frame. divide by sampling freq to get m/s\n",
    "    d = sum(vel)\n",
    "    return d"
   ]
  },
  {
   "cell_type": "code",
   "execution_count": null,
   "metadata": {},
   "outputs": [],
   "source": [
    "# Find the reach travel distance for wrist\n",
    "\n",
    "td = pd.DataFrame(columns = ['participant', 'condition', 'travel_distance'])\n",
    "\n",
    "for pid, subj in d.items():\n",
    "    for trial in subj['trials'].values():\n",
    "        \n",
    "        x = trial[markers[pid]['wrist'] + 'x']\n",
    "        y = trial[markers[pid]['wrist'] + 'y']\n",
    "        z = trial[markers[pid]['wrist'] + 'z']\n",
    "        \n",
    "        dist = auc(x, y, z)\n",
    "        cond = trial['name'][6:-4]\n",
    "        \n",
    "        to_add = pd.Series([pid, cond, dist], td.columns.values.tolist())\n",
    "        td = td.append(to_add, ignore_index = True)\n",
    "        \n",
    "td[:5]"
   ]
  },
  {
   "cell_type": "code",
   "execution_count": null,
   "metadata": {},
   "outputs": [],
   "source": [
    "a = td.groupby(['participant', 'condition']).aggregate(np.mean).reset_index()\n",
    "b = a.pivot(index = 'participant', columns = 'condition', values = 'travel_distance')\n",
    "c = b.mean(axis = 0)\n",
    "# b.loc[:, ['Occlusion_Cue_LeftToRight', 'Visible_Cue_LeftToRight']].plot(kind = 'bar')\n",
    "c.plot(kind = 'bar',  yerr = b.std(axis = 0) / np.sqrt(len(b)))\n",
    "plt.ylabel('travel distance (m)')\n",
    "plt.show()"
   ]
  },
  {
   "cell_type": "code",
   "execution_count": null,
   "metadata": {},
   "outputs": [],
   "source": [
    "# Reach trajectories on x-y axes for wrist\n",
    "\n",
    "fig = plt.figure(figsize = [15, 10])\n",
    "ax1 = fig.add_subplot(211)\n",
    "ax2 = fig.add_subplot(212)\n",
    "\n",
    "for pid, subj in d.items():\n",
    "    for trial in subj['trials'].values():\n",
    "        x = trial[markers[pid]['wrist'] + 'x']\n",
    "        y = trial[markers[pid]['wrist'] + 'y']\n",
    "        if 'Occlusion_Cue_LeftToRight' in trial['name'] or 'Occlusion_NoCue_LeftToRight' in trial['name']:\n",
    "            ax1.plot(x, y, color = 'b', alpha = 0.1)\n",
    "        elif 'Occlusion_Cue_RightToLeft' in trial['name'] or 'Occlusion_NoCue_RightToLeft' in trial['name']:\n",
    "            ax1.plot(x, y, color = 'r', alpha = 0.1)\n",
    "        elif 'Visible_Cue_LeftToRight' in trial['name'] or 'Visible_NoCue_LeftToRight' in trial['name']:\n",
    "            ax2.plot(x, y, color = 'b', alpha = 0.1)\n",
    "        elif 'Visible_Cue_RightToLeft' in trial['name'] or 'Visible_NoCue_RightToLeft' in trial['name']:\n",
    "            ax2.plot(x, y, color = 'r', alpha = 0.1)\n",
    "\n",
    "ax1.set_ylim(0, 0.5)\n",
    "ax2.set_ylim(0, 0.5)\n",
    "ax1.set_xlim(0.34, 0.87)\n",
    "ax2.set_xlim(0.34, 0.87)\n",
    "plt.show()"
   ]
  },
  {
   "cell_type": "code",
   "execution_count": null,
   "metadata": {},
   "outputs": [],
   "source": [
    "# Reach trajectories on x-y axes for index\n",
    "\n",
    "fig = plt.figure(figsize = [15, 10])\n",
    "ax1 = fig.add_subplot(211)\n",
    "ax2 = fig.add_subplot(212)\n",
    "\n",
    "for pid, subj in d.items():\n",
    "    for trial in subj['trials'].values():\n",
    "        x = trial[markers[pid]['index'] + 'x']\n",
    "        y = trial[markers[pid]['index'] + 'y']\n",
    "        if 'Occlusion_Cue_LeftToRight' in trial['name'] or 'Occlusion_NoCue_LeftToRight' in trial['name']:\n",
    "            ax1.plot(x, y, color = 'b', alpha = 0.1)\n",
    "        elif 'Occlusion_Cue_RightToLeft' in trial['name'] or 'Occlusion_NoCue_RightToLeft' in trial['name']:\n",
    "            ax1.plot(x, y, color = 'r', alpha = 0.1)\n",
    "        elif 'Visible_Cue_LeftToRight' in trial['name'] or 'Visible_NoCue_LeftToRight' in trial['name']:\n",
    "            ax2.plot(x, y, color = 'b', alpha = 0.1)\n",
    "        elif 'Visible_Cue_RightToLeft' in trial['name'] or 'Visible_NoCue_RightToLeft' in trial['name']:\n",
    "            ax2.plot(x, y, color = 'r', alpha = 0.1)\n",
    "\n",
    "ax1.set_ylim(0, 0.56)\n",
    "ax2.set_ylim(0, 0.56)\n",
    "ax1.set_xlim(0.34, 0.87)\n",
    "ax2.set_xlim(0.34, 0.87)\n",
    "plt.show()"
   ]
  },
  {
   "cell_type": "code",
   "execution_count": null,
   "metadata": {
    "collapsed": true
   },
   "outputs": [],
   "source": [
    "# Get the index accuracy and mean distance of fixations table\n",
    "\n",
    "mean_fixations = fixations.groupby(['p', 'trial'])['distance_to'] \\\n",
    "                          .apply(lambda x: np.mean(np.abs(x))) \\\n",
    "                          .reset_index()"
   ]
  },
  {
   "cell_type": "code",
   "execution_count": null,
   "metadata": {},
   "outputs": [],
   "source": [
    "common = pd.merge(mean_fixations, long_table, on = ['p', 'trial'])\n",
    "display(common[:10])\n",
    "\n",
    "ocl = common[common['condition'] == 'Occlusion_Cue_LeftToRight']\n",
    "onl = common[common['condition'] == 'Occlusion_NoCue_LeftToRight']"
   ]
  },
  {
   "cell_type": "code",
   "execution_count": null,
   "metadata": {},
   "outputs": [],
   "source": [
    "slope, intercept, r, p, stderr = linregress(ocl['distance_to'], ocl['indx-obj'])\n",
    "print 'r = {}\\np = {}'.format(round(r, 2), round(p, 3))\n",
    "\n",
    "y = intercept + slope * ocl['distance_to']\n",
    "\n",
    "plt.plot(ocl['distance_to'], ocl['indx-obj'], '.')\n",
    "plt.plot(ocl['distance_to'], y, 'b-', linewidth = 0.5)\n",
    "plt.show()"
   ]
  }
 ],
 "metadata": {
  "kernelspec": {
   "display_name": "Python 2",
   "language": "python",
   "name": "python2"
  },
  "language_info": {
   "codemirror_mode": {
    "name": "ipython",
    "version": 2
   },
   "file_extension": ".py",
   "mimetype": "text/x-python",
   "name": "python",
   "nbconvert_exporter": "python",
   "pygments_lexer": "ipython2",
   "version": "2.7.13"
  }
 },
 "nbformat": 4,
 "nbformat_minor": 2
}
