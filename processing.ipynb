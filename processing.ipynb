{
 "cells": [
  {
   "cell_type": "code",
   "execution_count": 1,
   "metadata": {
    "collapsed": true
   },
   "outputs": [],
   "source": [
    "import cPickle\n",
    "import os\n",
    "from tools import *\n",
    "d = load_data()"
   ]
  },
  {
   "cell_type": "code",
   "execution_count": 2,
   "metadata": {},
   "outputs": [
    {
     "name": "stdout",
     "output_type": "stream",
     "text": [
      "data was loaded\n"
     ]
    }
   ],
   "source": [
    "# Create or load a clean data file\n",
    "\n",
    "if 'clean_data.pkl' in os.listdir('.'):\n",
    "    d_clean = manual_load_data('clean_data.pkl')\n",
    "    print 'data was loaded'\n",
    "else:\n",
    "    d_clean = {}\n",
    "    print 'data was created'"
   ]
  },
  {
   "cell_type": "markdown",
   "metadata": {},
   "source": [
    "# P07\n",
    "\n",
    "- removed t14: lag. Trial name is Roman_Occlusion_NoCue_LeftToRight0001  \n",
    "- removed t28: lag. Trial name is Roman_Visible_Cue_LeftToRight0004\n",
    "- removed t44: drop in data. Trial name: Roman_Visible_NoCue_RightToLeft0001\n",
    "- edited t13: startmovement. Tiral name: Roman_Occlusion_NoCue_LeftToRight0000"
   ]
  },
  {
   "cell_type": "code",
   "execution_count": 3,
   "metadata": {
    "collapsed": true
   },
   "outputs": [],
   "source": [
    "d_clean['P07'] = d['P07']\n",
    "\n",
    "del d_clean['P07']['trials']['t14']\n",
    "del d_clean['P07']['trials']['t28']\n",
    "del d_clean['P07']['trials']['t44']\n",
    "\n",
    "curve = np.array(d_clean['P07']['trials']['t13']['startmovement'])\n",
    "curve[400:600] = 0\n",
    "d_clean['P07']['trials']['t13']['startmovement'] = tuple(curve)"
   ]
  },
  {
   "cell_type": "markdown",
   "metadata": {},
   "source": [
    "# P08\n",
    "\n",
    "- removed t26: index & thumb deop at the end + lag. Trial name: Roman_Visible_Cue_LeftToRight0001  \n",
    "- removed t30: lag. Trial name: 'Roman_Visible_Cue_LeftToRight0007'  \n",
    "- removed t36: lag. Trial name: 'Roman_Visible_Cue_RightToLeft0006'  \n",
    "- edited t22: noise in startmovement. Tiral name:"
   ]
  },
  {
   "cell_type": "code",
   "execution_count": 4,
   "metadata": {
    "collapsed": true
   },
   "outputs": [],
   "source": [
    "d_clean['P08'] = d['P08']\n",
    "\n",
    "del d_clean['P08']['trials']['t26']\n",
    "del d_clean['P08']['trials']['t30']\n",
    "del d_clean['P08']['trials']['t36']\n",
    "\n",
    "curve = np.array(d_clean['P08']['trials']['t22']['startmovement'])\n",
    "curve[650:910] = 0\n",
    "d_clean['P08']['trials']['t22']['startmovement'] = tuple(curve)"
   ]
  },
  {
   "cell_type": "markdown",
   "metadata": {},
   "source": [
    "# P09\n",
    "\n",
    "- removed t13: earlier reach. Trial name: Roman_Occlusion_NoCue_LeftToRight0000"
   ]
  },
  {
   "cell_type": "code",
   "execution_count": 5,
   "metadata": {
    "collapsed": true
   },
   "outputs": [],
   "source": [
    "d_clean['P09'] = d['P09']\n",
    "\n",
    "del d_clean['P09']['trials']['t13']"
   ]
  },
  {
   "cell_type": "markdown",
   "metadata": {},
   "source": [
    "# P 11\n",
    "\n",
    "- removed t1: early reach. Name: Roman_Occlusion_Cue_RightToLeft0003  \n",
    "- removed t13: early reach. Name: Roman_Occlusion_NoCue_LeftToRight0000  \n",
    "- removed t10: too early reach. Name: Roman_Occlusion_Cue_LeftToRight0000  \n",
    "- removed t17: drop data. Name: Roman_Occlusion_NoCue_LeftToRight0004"
   ]
  },
  {
   "cell_type": "code",
   "execution_count": 6,
   "metadata": {
    "collapsed": true
   },
   "outputs": [],
   "source": [
    "d_clean['P11'] = d['P11']\n",
    "\n",
    "del d_clean['P11']['trials']['t10']\n",
    "del d_clean['P11']['trials']['t13']\n",
    "del d_clean['P11']['trials']['t1']\n",
    "del d_clean['P11']['trials']['t17']\n",
    "\n",
    "# curve = np.array(d_clean['P11']['trials']['t17']['startmovement'])\n",
    "# curve[0:300] = 0\n",
    "# d_clean['P11']['trials']['t17']['startmovement'] = tuple(curve)"
   ]
  },
  {
   "cell_type": "markdown",
   "metadata": {},
   "source": [
    "# P 12\n",
    "\n",
    "- removed t31: no data at the end of trial + lag. Name: Roman_Visible_Cue_RightToLeft0000  \n",
    "- removed t22: lag. Name: Roman_Occlusion_NoCue_RightToLeft0004  \n",
    "- removed t12: looks like a lag, data missing. Name: Roman_Occlusion_Cue_RightToLeft0005\n"
   ]
  },
  {
   "cell_type": "code",
   "execution_count": 7,
   "metadata": {
    "collapsed": true
   },
   "outputs": [],
   "source": [
    "d_clean['P12'] = d['P12']\n",
    "\n",
    "del d_clean['P12']['trials']['t31']\n",
    "del d_clean['P12']['trials']['t22']\n",
    "del d_clean['P12']['trials']['t12']"
   ]
  },
  {
   "cell_type": "markdown",
   "metadata": {},
   "source": [
    "# P 16\n",
    "\n",
    "- removed t1: no reach. Name: Roman_Occlusion_Cue_LeftToRight0000  \n",
    "- removed t16: looks like a lag, no data. Name: Roman_Occlusion_NoCue_LeftToRight0003  \n",
    "- removed t26: early reach. Name: Roman_Visible_Cue_LeftToRight0001  \n",
    "- removed t41: no data at the beginning. Name: Roman_Visible_NoCue_LeftToRight0004  \n",
    "- removed t46: no data. Name: Roman_Visible_NoCue_RightToLeft0003  \n",
    "- removed t48: lag. Name: Roman_Visible_NoCue_RightToLeft0005\n",
    "- recalculated startmovement with wrist12vel\n",
    "- edited t22: startmovement. Name: Roman_Occlusion_NoCue_RightToLeft0004\n",
    "- edited t47: startmovement. Name: Roman_Visible_NoCue_RightToLeft0004"
   ]
  },
  {
   "cell_type": "code",
   "execution_count": 8,
   "metadata": {
    "collapsed": true
   },
   "outputs": [],
   "source": [
    "d_clean['P16'] = d['P16']\n",
    "\n",
    "del d_clean['P16']['trials']['t1']\n",
    "del d_clean['P16']['trials']['t16']\n",
    "del d_clean['P16']['trials']['t26']\n",
    "del d_clean['P16']['trials']['t41']\n",
    "del d_clean['P16']['trials']['t46']\n",
    "del d_clean['P16']['trials']['t48']\n",
    "\n",
    "for trial in d_clean['P16']['trials'].values():\n",
    "    x = []\n",
    "    for point in trial['wrist12vel']:\n",
    "        if point > 0.05:\n",
    "            x.append(1)\n",
    "        else:\n",
    "            x.append(0)\n",
    "    trial['startmovement']= tuple(x)\n",
    "\n",
    "curve = np.array(d_clean['P16']['trials']['t22']['startmovement'])\n",
    "curve[200:400] = 0\n",
    "d_clean['P16']['trials']['t22']['startmovement'] = tuple(curve)\n",
    "\n",
    "curve = np.array(d_clean['P16']['trials']['t47']['startmovement'])\n",
    "curve[200:400] = 0\n",
    "d_clean['P16']['trials']['t47']['startmovement'] = tuple(curve)"
   ]
  },
  {
   "cell_type": "markdown",
   "metadata": {},
   "source": [
    "# P 18\n",
    "\n",
    "- removed t12: drop in the data. Name: Roman_Occlusion_Cue_RightToLeft0005  \n",
    "- removed t15: drop. Name: Roman_Occlusion_NoCue_LeftToRight0002  \n",
    "- removed t19: drop. Name: Roman_Occlusion_NoCue_RightToLeft0000\n",
    "- removed t47: strange data at grasp. too rapid. Name: Roman_Visible_NoCue_RightToLeft0004"
   ]
  },
  {
   "cell_type": "code",
   "execution_count": 9,
   "metadata": {
    "collapsed": true
   },
   "outputs": [],
   "source": [
    "d_clean['P18'] = d['P18']\n",
    "\n",
    "del d_clean['P18']['trials']['t12']\n",
    "del d_clean['P18']['trials']['t15']\n",
    "del d_clean['P18']['trials']['t19']\n",
    "del d_clean['P18']['trials']['t47']"
   ]
  },
  {
   "cell_type": "markdown",
   "metadata": {},
   "source": [
    "# P19\n",
    "\n",
    "- removed t3: drops. Name: Roman_Occlusion_Cue_LeftToRight0002  \n",
    "- removed t5: drop. Name: Roman_Occlusion_Cue_LeftToRight0004  \n",
    "- removed t7: drop. Name: Roman_Occlusion_Cue_RightToLeft0000  \n",
    "- removed t12: drop. Name: Roman_Occlusion_Cue_RightToLeft0005  \n",
    "- removed t34: drop. Name: Roman_Visible_Cue_RightToLeft0003\n"
   ]
  },
  {
   "cell_type": "code",
   "execution_count": 10,
   "metadata": {
    "collapsed": true
   },
   "outputs": [],
   "source": [
    "d_clean['P19'] = d['P19']\n",
    "\n",
    "del d_clean['P19']['trials']['t3']\n",
    "del d_clean['P19']['trials']['t5']\n",
    "del d_clean['P19']['trials']['t7']\n",
    "del d_clean['P19']['trials']['t12']\n",
    "del d_clean['P19']['trials']['t34']"
   ]
  },
  {
   "cell_type": "markdown",
   "metadata": {},
   "source": [
    "# P21\n",
    "\n",
    "- removed t22: drop. Name: Roman_Occlusion_NoCue_RightToLeft0004  \n",
    "- recalculated startmovement with wrist11vel for all trials"
   ]
  },
  {
   "cell_type": "code",
   "execution_count": 11,
   "metadata": {
    "collapsed": true
   },
   "outputs": [],
   "source": [
    "d_clean['P21'] = d['P21']\n",
    "\n",
    "del d_clean['P21']['trials']['t22']\n",
    "\n",
    "for trial in d_clean['P21']['trials'].values():\n",
    "    sm = []\n",
    "    for point in trial['wrist11vel']:\n",
    "        if point < 0.05:\n",
    "            sm.append(0)\n",
    "        else:\n",
    "            sm.append(1)\n",
    "        trial['startmovement'] = tuple(sm)"
   ]
  },
  {
   "cell_type": "markdown",
   "metadata": {},
   "source": [
    "# P22\n",
    "\n",
    "- edited t27: startmovement. Name: Roman_Visible_Cue_LeftToRight0003  \n",
    "- edited t28: startmovement. Name: Roman_Visible_Cue_LeftToRight0004  \n",
    "- edited t33: startmovement. Name: Roman_Visible_Cue_RightToLeft0002  \n",
    "- edited t35: startmovement. Name: Roman_Visible_Cue_RightToLeft0005  \n",
    "- edited t36: startmovement. Name: Roman_Visible_Cue_RightToLeft0006  \n",
    "- edited t39: startmovement. Name: Roman_Visible_NoCue_LeftToRight0002  \n",
    "- edited t42: startmovement. Name: Roman_Visible_NoCue_LeftToRight0005  \n",
    "- edited t47: startmovement. Name: Roman_Visible_NoCue_RightToLeft0004  \n",
    "- edited t48: startmovement. Name: Roman_Visible_NoCue_RightToLeft0005  \n",
    "\n",
    "This participant made slight wist movements before the tone "
   ]
  },
  {
   "cell_type": "code",
   "execution_count": 12,
   "metadata": {
    "collapsed": true
   },
   "outputs": [],
   "source": [
    "d_clean['P22'] = d['P22']\n",
    "\n",
    "curve = np.array(d_clean['P22']['trials']['t27']['startmovement'])\n",
    "curve[600:890] = 0\n",
    "d_clean['P22']['trials']['t27']['startmovement'] = tuple(curve)\n",
    "\n",
    "curve = np.array(d_clean['P22']['trials']['t28']['startmovement'])\n",
    "curve[600:902] = 0\n",
    "d_clean['P22']['trials']['t28']['startmovement'] = tuple(curve)\n",
    "\n",
    "curve = np.array(d_clean['P22']['trials']['t33']['startmovement'])\n",
    "curve[500:600] = 0\n",
    "d_clean['P22']['trials']['t33']['startmovement'] = tuple(curve)\n",
    "\n",
    "curve = np.array(d_clean['P22']['trials']['t35']['startmovement'])\n",
    "curve[500:870] = 0\n",
    "d_clean['P22']['trials']['t35']['startmovement'] = tuple(curve)\n",
    "\n",
    "curve = np.array(d_clean['P22']['trials']['t36']['startmovement'])\n",
    "curve[700:870] = 0\n",
    "d_clean['P22']['trials']['t36']['startmovement'] = tuple(curve)\n",
    "\n",
    "curve = np.array(d_clean['P22']['trials']['t39']['startmovement'])\n",
    "curve[600:870] = 0\n",
    "d_clean['P22']['trials']['t39']['startmovement'] = tuple(curve)\n",
    "\n",
    "curve = np.array(d_clean['P22']['trials']['t42']['startmovement'])\n",
    "curve[500:600] = 0\n",
    "d_clean['P22']['trials']['t42']['startmovement'] = tuple(curve)\n",
    "\n",
    "curve = np.array(d_clean['P22']['trials']['t47']['startmovement'])\n",
    "curve[300:850] = 0\n",
    "d_clean['P22']['trials']['t47']['startmovement'] = tuple(curve)\n",
    "\n",
    "curve = np.array(d_clean['P22']['trials']['t48']['startmovement'])\n",
    "curve[400:700] = 0\n",
    "d_clean['P22']['trials']['t48']['startmovement'] = tuple(curve)"
   ]
  },
  {
   "cell_type": "markdown",
   "metadata": {},
   "source": [
    "# P23\n",
    "\n",
    "- removed t3: drop in the data. Name: Roman_Occlusion_Cue_LeftToRight0002  \n",
    "- removed t31: early reach. Name: Roman_Visible_Cue_RightToLeft0000  \n",
    "- removed t35: lag at the end. Name: Roman_Visible_Cue_RightToLeft0005  "
   ]
  },
  {
   "cell_type": "code",
   "execution_count": 13,
   "metadata": {
    "collapsed": true
   },
   "outputs": [],
   "source": [
    "d_clean['P23'] = d['P23']\n",
    "\n",
    "del d_clean['P23']['trials']['t3']\n",
    "del d_clean['P23']['trials']['t31']\n",
    "del d_clean['P23']['trials']['t35']"
   ]
  },
  {
   "cell_type": "markdown",
   "metadata": {},
   "source": [
    "# P25\n",
    "\n",
    "- removed t13: data drop. Name: Roman_Occlusion_Cue_RightToLeft0005  \n",
    "- removed t14: data drop. Name: Roman_Occlusion_NoCue_LeftToRight0001  \n",
    "- removed t16: data drop + lag. Name: Roman_Occlusion_NoCue_LeftToRight0003  \n",
    "- removed t27: lag. Name: Roman_Visible_Cue_LeftToRight0003  \n",
    "- removed t39: data drop. Name: Roman_Visible_NoCue_LeftToRight0002  \n",
    "\n",
    "- recalclated all trials' startmovement with wrist11vel  \n",
    "- edited t12: startmovement. Name: Roman_Occlusion_Cue_RightToLeft0005  \n",
    "- edited t20: startmovement. Name: Roman_Occlusion_NoCue_RightToLeft0002  "
   ]
  },
  {
   "cell_type": "code",
   "execution_count": 14,
   "metadata": {
    "collapsed": true
   },
   "outputs": [],
   "source": [
    "d_clean['P25'] = d['P25']\n",
    "\n",
    "del d_clean['P25']['trials']['t13']\n",
    "del d_clean['P25']['trials']['t14']\n",
    "del d_clean['P25']['trials']['t16']\n",
    "del d_clean['P25']['trials']['t27']\n",
    "del d_clean['P25']['trials']['t39']\n",
    "\n",
    "for trial in d_clean['P25']['trials'].values():\n",
    "    velcurve = np.array(trial['wrist11vel'])\n",
    "    sm = velcurve >= 0.05\n",
    "    trial['startmovement'] = tuple(sm)\n",
    "\n",
    "curve = np.array(d_clean['P25']['trials']['t12']['startmovement'])\n",
    "curve[600:900] = 0\n",
    "d_clean['P25']['trials']['t12']['startmovement'] = tuple(curve)\n",
    "\n",
    "curve = np.array(d_clean['P25']['trials']['t20']['startmovement'])\n",
    "curve[400:600] = 0\n",
    "d_clean['P25']['trials']['t20']['startmovement'] = tuple(curve)"
   ]
  },
  {
   "cell_type": "markdown",
   "metadata": {},
   "source": [
    "# P26\n",
    "\n",
    "- removed t1: drop in the data. Name: Roman_Occlusion_Cue_LeftToRight0000  \n",
    "- removed t23: microsof security message during trial. Name: Roman_Occlusion_NoCue_RightToLeft0005"
   ]
  },
  {
   "cell_type": "code",
   "execution_count": 7,
   "metadata": {
    "collapsed": true
   },
   "outputs": [],
   "source": [
    "d_clean['P26'] = d['P26']\n",
    "\n",
    "del d_clean['P26']['trials']['t1']\n",
    "del d_clean['P26']['trials']['t23']"
   ]
  },
  {
   "cell_type": "markdown",
   "metadata": {},
   "source": [
    "# P29\n",
    "\n",
    "- removed t19: drop in the data. Name: Roman_Occlusion_NoCue_RightToLeft0000  \n",
    "- edited t24: startmovement. Name: Roman_Visible_Cue_LeftToRight0000  "
   ]
  },
  {
   "cell_type": "code",
   "execution_count": 10,
   "metadata": {},
   "outputs": [],
   "source": [
    "d_clean['P29'] = d['P29']\n",
    "\n",
    "del d_clean['P29']['trials']['t19']\n",
    "\n",
    "curve = np.array(d_clean['P29']['trials']['t24']['startmovement'])\n",
    "curve[200:400] = 0\n",
    "d_clean['P29']['trials']['t24']['startmovement'] = tuple(curve)"
   ]
  },
  {
   "cell_type": "code",
   "execution_count": 11,
   "metadata": {},
   "outputs": [
    {
     "name": "stdout",
     "output_type": "stream",
     "text": [
      "Roman_Visible_Cue_LeftToRight0000\n"
     ]
    },
    {
     "data": {
      "image/png": "[encoded data removed]",
      "text/plain": [
       "<matplotlib.figure.Figure at 0x7f2df70c8e90>"
      ]
     },
     "metadata": {},
     "output_type": "display_data"
    }
   ],
   "source": [
    "trial = d_clean['P29']['trials']['t24']\n",
    "\n",
    "print trial['name']\n",
    "\n",
    "plt.plot(trial['startmovement'])\n",
    "plt.axvline(200, color = 'red')\n",
    "plt.axvline(400, color = 'red')\n",
    "plt.show()"
   ]
  },
  {
   "cell_type": "code",
   "execution_count": 12,
   "metadata": {},
   "outputs": [
    {
     "name": "stdout",
     "output_type": "stream",
     "text": [
      "The data will be overwritten. Continue? Yes/noYes\n"
     ]
    }
   ],
   "source": [
    "manual_save_data(d_clean, 'clean_data.pkl')"
   ]
  }
 ],
 "metadata": {
  "kernelspec": {
   "display_name": "Python 2",
   "language": "python",
   "name": "python2"
  },
  "language_info": {
   "codemirror_mode": {
    "name": "ipython",
    "version": 2
   },
   "file_extension": ".py",
   "mimetype": "text/x-python",
   "name": "python",
   "nbconvert_exporter": "python",
   "pygments_lexer": "ipython2",
   "version": "2.7.13"
  }
 },
 "nbformat": 4,
 "nbformat_minor": 2
}
